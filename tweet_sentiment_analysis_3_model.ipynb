{
 "cells": [
  {
   "cell_type": "markdown",
   "metadata": {},
   "source": [
    "https://www.kaggle.com/crowdflower/twitter-airline-sentiment"
   ]
  },
  {
   "cell_type": "markdown",
   "metadata": {},
   "source": [
    "#### Import modules"
   ]
  },
  {
   "cell_type": "code",
   "execution_count": 1,
   "metadata": {},
   "outputs": [],
   "source": [
    "%matplotlib inline"
   ]
  },
  {
   "cell_type": "code",
   "execution_count": 3,
   "metadata": {},
   "outputs": [
    {
     "name": "stdout",
     "output_type": "stream",
     "text": [
      "Importing Jupyter notebook from tweet_sentiment_analysis_2_preprocess.ipynb\n"
     ]
    }
   ],
   "source": [
    "from IPython.display import display\n",
    "import numpy as np\n",
    "import pandas as pd\n",
    "import matplotlib.pyplot as plt\n",
    "import os, sys\n",
    "from tqdm import tqdm_notebook\n",
    "\n",
    "import nbimporter\n",
    "from tweet_sentiment_analysis_2_preprocess import clean_text, tokenize, stop_words\n",
    "\n",
    "from time import time\n",
    "import sklearn\n",
    "from sklearn.model_selection import train_test_split, GridSearchCV\n",
    "from sklearn.preprocessing import LabelEncoder\n",
    "from sklearn.feature_extraction.text import CountVectorizer, TfidfVectorizer\n",
    "from sklearn.metrics import accuracy_score, precision_recall_fscore_support, confusion_matrix\n",
    "from sklearn.feature_selection import SelectKBest, chi2\n",
    "\n",
    "from sklearn.dummy import DummyClassifier\n",
    "from sklearn.linear_model import LogisticRegression, LogisticRegressionCV\n",
    "from sklearn.svm import SVC\n",
    "from sklearn.tree import DecisionTreeClassifier\n",
    "from sklearn.ensemble import RandomForestClassifier, GradientBoostingClassifier\n",
    "from sklearn.neighbors import KNeighborsClassifier\n",
    "\n",
    "np.random.seed(0)"
   ]
  },
  {
   "cell_type": "code",
   "execution_count": 4,
   "metadata": {},
   "outputs": [],
   "source": [
    "tweets=pd.read_csv('Tweets_preprocess.csv', index_col=0)"
   ]
  },
  {
   "cell_type": "code",
   "execution_count": 5,
   "metadata": {},
   "outputs": [],
   "source": [
    "general_stop, customized_stop=stop_words(tweets)"
   ]
  },
  {
   "cell_type": "code",
   "execution_count": 6,
   "metadata": {},
   "outputs": [],
   "source": [
    "labels=['positive', 'neutral', 'negative']"
   ]
  },
  {
   "cell_type": "markdown",
   "metadata": {},
   "source": [
    "# 3. Model"
   ]
  },
  {
   "cell_type": "markdown",
   "metadata": {},
   "source": [
    "## 3.1 Fit into a baseline model"
   ]
  },
  {
   "cell_type": "markdown",
   "metadata": {},
   "source": [
    "### 3.1.1 Split into train, cv and test"
   ]
  },
  {
   "cell_type": "code",
   "execution_count": 7,
   "metadata": {},
   "outputs": [],
   "source": [
    "def data_split(df, seed=seed):\n",
    "    train, test=train_test_split(df, test_size=.1)\n",
    "    return train, test"
   ]
  },
  {
   "cell_type": "code",
   "execution_count": 8,
   "metadata": {},
   "outputs": [],
   "source": [
    "def get_Y(tweets_split):\n",
    "    train, test=tweets_split\n",
    "    train_Y=train.pop('sentiment')\n",
    "    test_Y=test.pop('sentiment')\n",
    "    return train_Y, test_Y"
   ]
  },
  {
   "cell_type": "code",
   "execution_count": 9,
   "metadata": {},
   "outputs": [],
   "source": [
    "tweets_split=data_split(tweets)"
   ]
  },
  {
   "cell_type": "code",
   "execution_count": 10,
   "metadata": {},
   "outputs": [],
   "source": [
    "train_Y, test_Y=get_Y(tweets_split)"
   ]
  },
  {
   "cell_type": "code",
   "execution_count": 11,
   "metadata": {},
   "outputs": [
    {
     "name": "stdout",
     "output_type": "stream",
     "text": [
      "Train set has total 13176\n",
      "Test set has total 1464\n"
     ]
    }
   ],
   "source": [
    "print(\"Train set has total\", len(train_Y))\n",
    "print(\"Test set has total\", len(test_Y))"
   ]
  },
  {
   "cell_type": "code",
   "execution_count": 12,
   "metadata": {},
   "outputs": [
    {
     "data": {
      "text/html": [
       "<div>\n",
       "<style scoped>\n",
       "    .dataframe tbody tr th:only-of-type {\n",
       "        vertical-align: middle;\n",
       "    }\n",
       "\n",
       "    .dataframe tbody tr th {\n",
       "        vertical-align: top;\n",
       "    }\n",
       "\n",
       "    .dataframe thead th {\n",
       "        text-align: right;\n",
       "    }\n",
       "</style>\n",
       "<table border=\"1\" class=\"dataframe\">\n",
       "  <thead>\n",
       "    <tr style=\"text-align: right;\">\n",
       "      <th></th>\n",
       "      <th>train_Y</th>\n",
       "      <th>test_Y</th>\n",
       "    </tr>\n",
       "  </thead>\n",
       "  <tbody>\n",
       "    <tr>\n",
       "      <th>negative</th>\n",
       "      <td>0.627125</td>\n",
       "      <td>0.625000</td>\n",
       "    </tr>\n",
       "    <tr>\n",
       "      <th>neutral</th>\n",
       "      <td>0.210534</td>\n",
       "      <td>0.221995</td>\n",
       "    </tr>\n",
       "    <tr>\n",
       "      <th>positive</th>\n",
       "      <td>0.162341</td>\n",
       "      <td>0.153005</td>\n",
       "    </tr>\n",
       "  </tbody>\n",
       "</table>\n",
       "</div>"
      ],
      "text/plain": [
       "           train_Y    test_Y\n",
       "negative  0.627125  0.625000\n",
       "neutral   0.210534  0.221995\n",
       "positive  0.162341  0.153005"
      ]
     },
     "execution_count": 12,
     "metadata": {},
     "output_type": "execute_result"
    }
   ],
   "source": [
    "df=pd.DataFrame({'train_Y': train_Y.value_counts()/train_Y.shape[0],\n",
    "                 'test_Y': test_Y.value_counts()/test_Y.shape[0]})\n",
    "df"
   ]
  },
  {
   "cell_type": "markdown",
   "metadata": {},
   "source": [
    "Calculate null accuracy: accuracy that could be achieved by always predicting the most frequent class\n",
    "\n",
    "A well-performed classifier is expected to get a better accuracy than null accuracy"
   ]
  },
  {
   "cell_type": "code",
   "execution_count": 13,
   "metadata": {},
   "outputs": [],
   "source": [
    "def calculate_null_accuracy(test_Y):\n",
    "    return max(test_Y.value_counts()/test_Y.shape[0])"
   ]
  },
  {
   "cell_type": "code",
   "execution_count": 14,
   "metadata": {},
   "outputs": [
    {
     "name": "stdout",
     "output_type": "stream",
     "text": [
      "The null accuracy is 0.625\n"
     ]
    }
   ],
   "source": [
    "null_accuracy=calculate_null_accuracy(test_Y)\n",
    "print('The null accuracy is '+str(null_accuracy))"
   ]
  },
  {
   "cell_type": "markdown",
   "metadata": {},
   "source": [
    "### 3.1.2 Vectorize the tokens"
   ]
  },
  {
   "cell_type": "code",
   "execution_count": 15,
   "metadata": {
    "scrolled": false
   },
   "outputs": [],
   "source": [
    "def vectorize(vectorizer=CountVectorizer(), \n",
    "              tweets_split=tweets_split, \n",
    "              max_tokens=None, \n",
    "              more_features=False):\n",
    "    \n",
    "    train, test=tweets_split\n",
    "    \n",
    "    vectorizer.set_params(max_features=max_tokens)\n",
    "    train_X=vectorizer.fit_transform(train['text_clean'])\n",
    "    test_X=vectorizer.transform(test['text_clean'])\n",
    "    tokens=pd.DataFrame({'token': vectorizer.get_feature_names()})\n",
    "    \n",
    "    if more_features:\n",
    "        f=lambda x: x[x.columns[~x.columns.isin(['text', 'text_clean'])]]\n",
    "\n",
    "        train_X=pd.DataFrame(train_X.todense(), \n",
    "                             columns=tokens['token'].map(lambda x: 'token_'+x)\n",
    "                            ).set_index(train.index)\n",
    "        train_X=train_X.join(f(train))\n",
    "        \n",
    "        test_X=pd.DataFrame(test_X.todense(), \n",
    "                            columns=tokens['token'].map(lambda x: 'token_'+x)\n",
    "                           ).set_index(test.index)\n",
    "        test_X=test_X.join(f(test))\n",
    "    \n",
    "    return tokens, train_X, test_X"
   ]
  },
  {
   "cell_type": "markdown",
   "metadata": {},
   "source": [
    "Vectorize the uniq words of training set using just count vectorizer and union with the other features"
   ]
  },
  {
   "cell_type": "code",
   "execution_count": 16,
   "metadata": {},
   "outputs": [],
   "source": [
    "tokens, train_X, test_X=vectorize(more_features=True)"
   ]
  },
  {
   "cell_type": "code",
   "execution_count": 17,
   "metadata": {},
   "outputs": [
    {
     "name": "stdout",
     "output_type": "stream",
     "text": [
      "token # of train set: 10686\n"
     ]
    }
   ],
   "source": [
    "print('token # of train set:', tokens.shape[0])"
   ]
  },
  {
   "cell_type": "markdown",
   "metadata": {},
   "source": [
    "### 3.1.3 Build baseline model"
   ]
  },
  {
   "cell_type": "markdown",
   "metadata": {},
   "source": [
    "I'm using logistic regression as the baseline model. \n",
    "\n",
    "Since our data is skewed to 'negative', I'll use f1_score as the main evaluating metric when the accuracy is better than guessing."
   ]
  },
  {
   "cell_type": "code",
   "execution_count": 18,
   "metadata": {},
   "outputs": [],
   "source": [
    "def model(clf, train_X, train_Y, test_X, test_Y):\n",
    "    start=time()\n",
    "    clf.fit(train_X, train_Y)\n",
    "    pred=clf.predict(test_X)\n",
    "    end=time()\n",
    "    accuracy=accuracy_score(test_Y, pred)\n",
    "    precision, recall, f1, _=precision_recall_fscore_support(test_Y, pred, \n",
    "                                         labels=labels,\n",
    "                                         average='weighted', \n",
    "                                         warn_for=tuple())\n",
    "    return pred, {clf.__class__.__name__:\n",
    "            {'better_than_null': accuracy>null_accuracy, \n",
    "            'accuracy': accuracy, \n",
    "            'f1_score': f1, \n",
    "            'precision': precision,\n",
    "            'recall': recall,\n",
    "            'running_time': end-start}}"
   ]
  },
  {
   "cell_type": "code",
   "execution_count": 19,
   "metadata": {},
   "outputs": [],
   "source": [
    "def summarize_model(clf, train_X, train_Y, test_X, test_Y, show_confusion=True):\n",
    "    pred, summary=model(clf, train_X, train_Y, test_X, test_Y)\n",
    "    display(pd.DataFrame.from_dict(summary).T)\n",
    "    if show_confusion:\n",
    "        confusion=confusion_matrix(test_Y, pred, labels=labels)\n",
    "        confusion = pd.DataFrame(confusion, index=labels,\n",
    "                                 columns=['predicted_'+l for l in labels])\n",
    "        display(confusion)"
   ]
  },
  {
   "cell_type": "code",
   "execution_count": 20,
   "metadata": {
    "scrolled": true
   },
   "outputs": [
    {
     "data": {
      "text/html": [
       "<div>\n",
       "<style scoped>\n",
       "    .dataframe tbody tr th:only-of-type {\n",
       "        vertical-align: middle;\n",
       "    }\n",
       "\n",
       "    .dataframe tbody tr th {\n",
       "        vertical-align: top;\n",
       "    }\n",
       "\n",
       "    .dataframe thead th {\n",
       "        text-align: right;\n",
       "    }\n",
       "</style>\n",
       "<table border=\"1\" class=\"dataframe\">\n",
       "  <thead>\n",
       "    <tr style=\"text-align: right;\">\n",
       "      <th></th>\n",
       "      <th>accuracy</th>\n",
       "      <th>better_than_null</th>\n",
       "      <th>f1_score</th>\n",
       "      <th>precision</th>\n",
       "      <th>recall</th>\n",
       "      <th>running_time</th>\n",
       "    </tr>\n",
       "  </thead>\n",
       "  <tbody>\n",
       "    <tr>\n",
       "      <th>DummyClassifier</th>\n",
       "      <td>0.625</td>\n",
       "      <td>False</td>\n",
       "      <td>0.480769</td>\n",
       "      <td>0.390625</td>\n",
       "      <td>0.625</td>\n",
       "      <td>0.0116279</td>\n",
       "    </tr>\n",
       "  </tbody>\n",
       "</table>\n",
       "</div>"
      ],
      "text/plain": [
       "                accuracy better_than_null  f1_score precision recall  \\\n",
       "DummyClassifier    0.625            False  0.480769  0.390625  0.625   \n",
       "\n",
       "                running_time  \n",
       "DummyClassifier    0.0116279  "
      ]
     },
     "metadata": {},
     "output_type": "display_data"
    },
    {
     "data": {
      "text/html": [
       "<div>\n",
       "<style scoped>\n",
       "    .dataframe tbody tr th:only-of-type {\n",
       "        vertical-align: middle;\n",
       "    }\n",
       "\n",
       "    .dataframe tbody tr th {\n",
       "        vertical-align: top;\n",
       "    }\n",
       "\n",
       "    .dataframe thead th {\n",
       "        text-align: right;\n",
       "    }\n",
       "</style>\n",
       "<table border=\"1\" class=\"dataframe\">\n",
       "  <thead>\n",
       "    <tr style=\"text-align: right;\">\n",
       "      <th></th>\n",
       "      <th>predicted_positive</th>\n",
       "      <th>predicted_neutral</th>\n",
       "      <th>predicted_negative</th>\n",
       "    </tr>\n",
       "  </thead>\n",
       "  <tbody>\n",
       "    <tr>\n",
       "      <th>positive</th>\n",
       "      <td>0</td>\n",
       "      <td>0</td>\n",
       "      <td>224</td>\n",
       "    </tr>\n",
       "    <tr>\n",
       "      <th>neutral</th>\n",
       "      <td>0</td>\n",
       "      <td>0</td>\n",
       "      <td>325</td>\n",
       "    </tr>\n",
       "    <tr>\n",
       "      <th>negative</th>\n",
       "      <td>0</td>\n",
       "      <td>0</td>\n",
       "      <td>915</td>\n",
       "    </tr>\n",
       "  </tbody>\n",
       "</table>\n",
       "</div>"
      ],
      "text/plain": [
       "          predicted_positive  predicted_neutral  predicted_negative\n",
       "positive                   0                  0                 224\n",
       "neutral                    0                  0                 325\n",
       "negative                   0                  0                 915"
      ]
     },
     "metadata": {},
     "output_type": "display_data"
    }
   ],
   "source": [
    "dummy_model = DummyClassifier(strategy = 'most_frequent')\n",
    "summarize_model(dummy_model, train_X, train_Y, test_X, test_Y)"
   ]
  },
  {
   "cell_type": "code",
   "execution_count": 21,
   "metadata": {},
   "outputs": [
    {
     "data": {
      "text/html": [
       "<div>\n",
       "<style scoped>\n",
       "    .dataframe tbody tr th:only-of-type {\n",
       "        vertical-align: middle;\n",
       "    }\n",
       "\n",
       "    .dataframe tbody tr th {\n",
       "        vertical-align: top;\n",
       "    }\n",
       "\n",
       "    .dataframe thead th {\n",
       "        text-align: right;\n",
       "    }\n",
       "</style>\n",
       "<table border=\"1\" class=\"dataframe\">\n",
       "  <thead>\n",
       "    <tr style=\"text-align: right;\">\n",
       "      <th></th>\n",
       "      <th>accuracy</th>\n",
       "      <th>better_than_null</th>\n",
       "      <th>f1_score</th>\n",
       "      <th>precision</th>\n",
       "      <th>recall</th>\n",
       "      <th>running_time</th>\n",
       "    </tr>\n",
       "  </thead>\n",
       "  <tbody>\n",
       "    <tr>\n",
       "      <th>LogisticRegression</th>\n",
       "      <td>0.797131</td>\n",
       "      <td>True</td>\n",
       "      <td>0.795599</td>\n",
       "      <td>0.794633</td>\n",
       "      <td>0.797131</td>\n",
       "      <td>109.331</td>\n",
       "    </tr>\n",
       "  </tbody>\n",
       "</table>\n",
       "</div>"
      ],
      "text/plain": [
       "                    accuracy better_than_null  f1_score precision    recall  \\\n",
       "LogisticRegression  0.797131             True  0.795599  0.794633  0.797131   \n",
       "\n",
       "                   running_time  \n",
       "LogisticRegression      109.331  "
      ]
     },
     "metadata": {},
     "output_type": "display_data"
    },
    {
     "data": {
      "text/html": [
       "<div>\n",
       "<style scoped>\n",
       "    .dataframe tbody tr th:only-of-type {\n",
       "        vertical-align: middle;\n",
       "    }\n",
       "\n",
       "    .dataframe tbody tr th {\n",
       "        vertical-align: top;\n",
       "    }\n",
       "\n",
       "    .dataframe thead th {\n",
       "        text-align: right;\n",
       "    }\n",
       "</style>\n",
       "<table border=\"1\" class=\"dataframe\">\n",
       "  <thead>\n",
       "    <tr style=\"text-align: right;\">\n",
       "      <th></th>\n",
       "      <th>predicted_positive</th>\n",
       "      <th>predicted_neutral</th>\n",
       "      <th>predicted_negative</th>\n",
       "    </tr>\n",
       "  </thead>\n",
       "  <tbody>\n",
       "    <tr>\n",
       "      <th>positive</th>\n",
       "      <td>159</td>\n",
       "      <td>23</td>\n",
       "      <td>42</td>\n",
       "    </tr>\n",
       "    <tr>\n",
       "      <th>neutral</th>\n",
       "      <td>26</td>\n",
       "      <td>204</td>\n",
       "      <td>95</td>\n",
       "    </tr>\n",
       "    <tr>\n",
       "      <th>negative</th>\n",
       "      <td>24</td>\n",
       "      <td>87</td>\n",
       "      <td>804</td>\n",
       "    </tr>\n",
       "  </tbody>\n",
       "</table>\n",
       "</div>"
      ],
      "text/plain": [
       "          predicted_positive  predicted_neutral  predicted_negative\n",
       "positive                 159                 23                  42\n",
       "neutral                   26                204                  95\n",
       "negative                  24                 87                 804"
      ]
     },
     "metadata": {},
     "output_type": "display_data"
    }
   ],
   "source": [
    "clf=LogisticRegression(multi_class='multinomial', solver='newton-cg')\n",
    "summarize_model(clf, train_X, train_Y, test_X, test_Y)"
   ]
  },
  {
   "cell_type": "markdown",
   "metadata": {},
   "source": [
    "Without feature selection, the baseline model logistic regression runs more than 400 seconds and reach 0.79 f1 score and accuracy, much better than guessing the most frequent class."
   ]
  },
  {
   "cell_type": "markdown",
   "metadata": {},
   "source": [
    "## 3.2 Define approach based on baseline model"
   ]
  },
  {
   "cell_type": "markdown",
   "metadata": {},
   "source": [
    "Use a cross-validation method for comparing. Considering the computation speed, I'll compare the model performance on selected tokens (less than 500)."
   ]
  },
  {
   "cell_type": "code",
   "execution_count": 22,
   "metadata": {},
   "outputs": [],
   "source": [
    "clf=LogisticRegressionCV(cv=3, multi_class='multinomial', solver='newton-cg', max_iter=200)"
   ]
  },
  {
   "cell_type": "markdown",
   "metadata": {},
   "source": [
    "### 3.2.1 Compare text cleaning options: stem and stop"
   ]
  },
  {
   "cell_type": "code",
   "execution_count": 23,
   "metadata": {},
   "outputs": [],
   "source": [
    "def compare_clean_text_options(clf, tweets, metric='f1_score'):\n",
    "    clf_name=clf.__class__.__name__\n",
    "    d={}\n",
    "    for k, stop in [('general', general_stop), \n",
    "                    ('customized', customized_stop), \n",
    "                    ('none', None)]:\n",
    "        for stem in [True, False]:\n",
    "            tag='stem_'+str(stem)+'_stop_'+k\n",
    "            print(tag)\n",
    "            tweets, _, _=tokenize(tweets, stop=stop, stem=stem)\n",
    "            d[tag]={}\n",
    "            for f in tqdm_notebook(range(50, 501, 50)):\n",
    "                tweets_split=data_split(tweets, seed=seed)\n",
    "                train_Y, test_Y=get_Y(tweets_split)\n",
    "                _, train_X, test_X=vectorize(vectorizer=CountVectorizer(), \n",
    "                                             tweets_split=tweets_split, \n",
    "                                             max_tokens=f,\n",
    "                                             more_features=False)\n",
    "                _, summary=model(clf, train_X, train_Y, test_X, test_Y)\n",
    "                d[tag][f]=summary[clf_name][metric]\n",
    "    pd.DataFrame(d).plot(kind='line', figsize=(10,10))\n",
    "    plt.xlabel('max_tokens')\n",
    "    plt.ylabel(metric)\n",
    "    plt.title('Compare text cleaning options - '+clf_name)\n",
    "    plt.show()\n",
    "    return d"
   ]
  },
  {
   "cell_type": "code",
   "execution_count": 24,
   "metadata": {},
   "outputs": [
    {
     "name": "stdout",
     "output_type": "stream",
     "text": [
      "stem_True_stop_general\n"
     ]
    },
    {
     "data": {
      "application/vnd.jupyter.widget-view+json": {
       "model_id": "7252f760946c4fe48e90619d49050269",
       "version_major": 2,
       "version_minor": 0
      },
      "text/plain": [
       "HBox(children=(IntProgress(value=0, max=10), HTML(value='')))"
      ]
     },
     "metadata": {},
     "output_type": "display_data"
    },
    {
     "name": "stdout",
     "output_type": "stream",
     "text": [
      "\n",
      "stem_False_stop_general\n"
     ]
    },
    {
     "data": {
      "application/vnd.jupyter.widget-view+json": {
       "model_id": "cadf38bdd17b4760b24fffbff9805768",
       "version_major": 2,
       "version_minor": 0
      },
      "text/plain": [
       "HBox(children=(IntProgress(value=0, max=10), HTML(value='')))"
      ]
     },
     "metadata": {},
     "output_type": "display_data"
    },
    {
     "name": "stdout",
     "output_type": "stream",
     "text": [
      "\n",
      "stem_True_stop_customized\n"
     ]
    },
    {
     "data": {
      "application/vnd.jupyter.widget-view+json": {
       "model_id": "c8c074acb6e4412f8d8790b3a63dedaa",
       "version_major": 2,
       "version_minor": 0
      },
      "text/plain": [
       "HBox(children=(IntProgress(value=0, max=10), HTML(value='')))"
      ]
     },
     "metadata": {},
     "output_type": "display_data"
    },
    {
     "name": "stdout",
     "output_type": "stream",
     "text": [
      "\n",
      "stem_False_stop_customized\n"
     ]
    },
    {
     "data": {
      "application/vnd.jupyter.widget-view+json": {
       "model_id": "dcd141227e144506ba126fda5321bc64",
       "version_major": 2,
       "version_minor": 0
      },
      "text/plain": [
       "HBox(children=(IntProgress(value=0, max=10), HTML(value='')))"
      ]
     },
     "metadata": {},
     "output_type": "display_data"
    },
    {
     "name": "stdout",
     "output_type": "stream",
     "text": [
      "\n",
      "stem_True_stop_none\n"
     ]
    },
    {
     "data": {
      "application/vnd.jupyter.widget-view+json": {
       "model_id": "dec2c25e7c534df18b02f52caf2a450f",
       "version_major": 2,
       "version_minor": 0
      },
      "text/plain": [
       "HBox(children=(IntProgress(value=0, max=10), HTML(value='')))"
      ]
     },
     "metadata": {},
     "output_type": "display_data"
    },
    {
     "name": "stdout",
     "output_type": "stream",
     "text": [
      "\n",
      "stem_False_stop_none\n"
     ]
    },
    {
     "data": {
      "application/vnd.jupyter.widget-view+json": {
       "model_id": "77257927823b4cfbae7d80d5da05fa9f",
       "version_major": 2,
       "version_minor": 0
      },
      "text/plain": [
       "HBox(children=(IntProgress(value=0, max=10), HTML(value='')))"
      ]
     },
     "metadata": {},
     "output_type": "display_data"
    },
    {
     "name": "stdout",
     "output_type": "stream",
     "text": [
      "\n"
     ]
    },
    {
     "data": {
      "image/png": "[encoded data removed]",
      "text/plain": [
       "<Figure size 720x720 with 1 Axes>"
      ]
     },
     "metadata": {
      "needs_background": "light"
     },
     "output_type": "display_data"
    }
   ],
   "source": [
    "_=compare_clean_text_options(clf, tweets)"
   ]
  },
  {
   "cell_type": "markdown",
   "metadata": {},
   "source": [
    "From the figure above, the option \"stem_True_stop_none\" performs best overall. So I'll use this option for the following steps."
   ]
  },
  {
   "cell_type": "markdown",
   "metadata": {},
   "source": [
    "### 3.2.2 Tfidf vs Count"
   ]
  },
  {
   "cell_type": "code",
   "execution_count": 25,
   "metadata": {},
   "outputs": [],
   "source": [
    "def compare_vectorizer_options(clf, tweets, metric='f1_score'):\n",
    "    clf_name=clf.__class__.__name__\n",
    "    d={}\n",
    "    for vectorizer in [CountVectorizer(), TfidfVectorizer()]:\n",
    "        v_name=vectorizer.__class__.__name__\n",
    "        print(v_name)\n",
    "        d[v_name]={}\n",
    "        for f in tqdm_notebook(range(50, 501, 50)):\n",
    "            tweets_split=data_split(tweets)\n",
    "            train_Y, test_Y=get_Y(tweets_split)\n",
    "            _, train_X, test_X=vectorize(vectorizer=vectorizer, \n",
    "                                        tweets_split=tweets_split, \n",
    "                                        max_tokens=f,\n",
    "                                        more_features=False)\n",
    "            _, summary=model(clf, train_X, train_Y, test_X, test_Y)\n",
    "            d[v_name][f]=summary[clf_name][metric]\n",
    "    pd.DataFrame(d).plot(kind='line')\n",
    "    plt.xlabel('max_tokens')\n",
    "    plt.ylabel(metric)\n",
    "    plt.title('Compare vectorizer options - '+clf_name)\n",
    "    plt.show()\n",
    "    return d"
   ]
  },
  {
   "cell_type": "code",
   "execution_count": 26,
   "metadata": {},
   "outputs": [
    {
     "name": "stdout",
     "output_type": "stream",
     "text": [
      "CountVectorizer\n"
     ]
    },
    {
     "data": {
      "application/vnd.jupyter.widget-view+json": {
       "model_id": "a73a47ec141b4bc69defb2432034b675",
       "version_major": 2,
       "version_minor": 0
      },
      "text/plain": [
       "HBox(children=(IntProgress(value=0, max=10), HTML(value='')))"
      ]
     },
     "metadata": {},
     "output_type": "display_data"
    },
    {
     "name": "stdout",
     "output_type": "stream",
     "text": [
      "\n",
      "TfidfVectorizer\n"
     ]
    },
    {
     "data": {
      "application/vnd.jupyter.widget-view+json": {
       "model_id": "8d69d7e11ca044efa3f0d149cc516860",
       "version_major": 2,
       "version_minor": 0
      },
      "text/plain": [
       "HBox(children=(IntProgress(value=0, max=10), HTML(value='')))"
      ]
     },
     "metadata": {},
     "output_type": "display_data"
    },
    {
     "name": "stdout",
     "output_type": "stream",
     "text": [
      "\n"
     ]
    },
    {
     "data": {
      "image/png": "[encoded data removed]",
      "text/plain": [
       "<Figure size 432x288 with 1 Axes>"
      ]
     },
     "metadata": {
      "needs_background": "light"
     },
     "output_type": "display_data"
    }
   ],
   "source": [
    "_=compare_vectorizer_options(clf, tweets)"
   ]
  },
  {
   "cell_type": "code",
   "execution_count": 27,
   "metadata": {
    "scrolled": false
   },
   "outputs": [
    {
     "name": "stdout",
     "output_type": "stream",
     "text": [
      "CountVectorizer\n"
     ]
    },
    {
     "data": {
      "application/vnd.jupyter.widget-view+json": {
       "model_id": "6ba95fd707894fd68015e528be34ca68",
       "version_major": 2,
       "version_minor": 0
      },
      "text/plain": [
       "HBox(children=(IntProgress(value=0, max=10), HTML(value='')))"
      ]
     },
     "metadata": {},
     "output_type": "display_data"
    },
    {
     "name": "stdout",
     "output_type": "stream",
     "text": [
      "\n",
      "TfidfVectorizer\n"
     ]
    },
    {
     "data": {
      "application/vnd.jupyter.widget-view+json": {
       "model_id": "69b3b248051a4ae5b816342655a22d04",
       "version_major": 2,
       "version_minor": 0
      },
      "text/plain": [
       "HBox(children=(IntProgress(value=0, max=10), HTML(value='')))"
      ]
     },
     "metadata": {},
     "output_type": "display_data"
    },
    {
     "name": "stdout",
     "output_type": "stream",
     "text": [
      "\n"
     ]
    },
    {
     "data": {
      "image/png": "[encoded data removed]",
      "text/plain": [
       "<Figure size 432x288 with 1 Axes>"
      ]
     },
     "metadata": {
      "needs_background": "light"
     },
     "output_type": "display_data"
    }
   ],
   "source": [
    "_=compare_vectorizer_options(clf, tweets, metric='running_time')"
   ]
  },
  {
   "cell_type": "markdown",
   "metadata": {},
   "source": [
    "For logistic regression above, Tfidf vetorizer performs better f1 score overall.\n",
    "\n",
    "Since Tdidf Vectorizer is normalization of Count Vectorizer (required by some classifier like svm) and it generally runs faster, I'll continue using Tfidf vectorizer"
   ]
  },
  {
   "cell_type": "markdown",
   "metadata": {},
   "source": [
    "### 3.3.3 Features selection on token, meta and other features"
   ]
  },
  {
   "cell_type": "markdown",
   "metadata": {},
   "source": [
    "Refresh data using the options determined by the comparisons above"
   ]
  },
  {
   "cell_type": "code",
   "execution_count": 28,
   "metadata": {},
   "outputs": [],
   "source": [
    "tweets, _, _=tokenize(tweets, stem=True, stop=None)\n",
    "tweets_split=data_split(tweets)\n",
    "train_Y, test_Y=get_Y(tweets_split)\n",
    "tokens, train_X, test_X=vectorize(vectorizer=TfidfVectorizer(), \n",
    "                                  tweets_split=tweets_split, \n",
    "                                  more_features=True)"
   ]
  },
  {
   "cell_type": "markdown",
   "metadata": {},
   "source": [
    "Pick the most 50 informative features in the data"
   ]
  },
  {
   "cell_type": "code",
   "execution_count": 29,
   "metadata": {},
   "outputs": [],
   "source": [
    "def chi_squared_select(k, train_X, train_Y):\n",
    "    if k>train_X.shape[1]:\n",
    "        k='all'\n",
    "    chi2_selector=SelectKBest(chi2, k)\n",
    "    le = LabelEncoder()\n",
    "    chi2_selector.fit(train_X, le.fit_transform(train_Y))\n",
    "    return chi2_selector"
   ]
  },
  {
   "cell_type": "code",
   "execution_count": 30,
   "metadata": {
    "scrolled": true
   },
   "outputs": [],
   "source": [
    "chi2_selector=chi_squared_select(50, train_X, train_Y)"
   ]
  },
  {
   "cell_type": "code",
   "execution_count": 31,
   "metadata": {
    "scrolled": true
   },
   "outputs": [
    {
     "data": {
      "text/plain": [
       "Index(['token_amaz', 'token_appreci', 'token_awesom', 'token_bag',\n",
       "       'token_been', 'token_best', 'token_call', 'token_cancel',\n",
       "       'token_custom', 'token_delay', 'token_destinationdragon', 'token_dm',\n",
       "       'token_excel', 'token_eye', 'token_fantast', 'token_fleek',\n",
       "       'token_fleet', 'token_fold', 'token_follow', 'token_good',\n",
       "       'token_great', 'token_hand', 'token_heart', 'token_hold', 'token_hour',\n",
       "       'token_hr', 'token_kudo', 'token_love', 'token_much', 'token_no',\n",
       "       'token_not', 'token_quick', 'token_rock', 'token_smile', 'token_thank',\n",
       "       'token_wait', 'token_worst', 'token_you', 'tweet_airline_American',\n",
       "       'tweet_airline_Delta', 'tweet_airline_Southwest',\n",
       "       'tweet_airline_US Airways', 'tweet_airline_United',\n",
       "       'tweet_airline_Virgin America', 'meta_score', 'meta_len',\n",
       "       'meta_count_space', 'meta_count_!', 'meta_count_?',\n",
       "       'meta_word_per_sent'],\n",
       "      dtype='object')"
      ]
     },
     "execution_count": 31,
     "metadata": {},
     "output_type": "execute_result"
    }
   ],
   "source": [
    "train_X.columns[chi2_selector.get_support()]"
   ]
  },
  {
   "cell_type": "markdown",
   "metadata": {},
   "source": [
    "Compare the performance with different choice of features (from 50 to 500)"
   ]
  },
  {
   "cell_type": "code",
   "execution_count": 33,
   "metadata": {},
   "outputs": [],
   "source": [
    "def feature_selection(clf, train_X, train_Y, test_X, test_Y, metric='f1_score'):\n",
    "    clf_name=clf.__class__.__name__\n",
    "    d={clf_name:{}}\n",
    "    for f in tqdm_notebook(range(50, 501, 50)):\n",
    "        print('select', f,'best features')\n",
    "        chi2_selector=chi_squared_select(f, train_X, train_Y)\n",
    "        train_X_kbest=chi2_selector.transform(train_X)\n",
    "        test_X_kbest=chi2_selector.transform(test_X)\n",
    "        _, summary=model(clf, train_X_kbest, train_Y, test_X_kbest, test_Y)\n",
    "        d[clf_name][f]=summary[clf_name][metric]\n",
    "    pd.DataFrame(d).plot(kind='line')\n",
    "    plt.xlabel('max_features')\n",
    "    plt.ylabel(metric)\n",
    "    plt.title('Compare vectorizer options - '+clf_name)\n",
    "    plt.show()\n",
    "    return d"
   ]
  },
  {
   "cell_type": "code",
   "execution_count": 34,
   "metadata": {
    "scrolled": false
   },
   "outputs": [
    {
     "data": {
      "application/vnd.jupyter.widget-view+json": {
       "model_id": "b6a57cb1baac470c966ed4c8203873d9",
       "version_major": 2,
       "version_minor": 0
      },
      "text/plain": [
       "HBox(children=(IntProgress(value=0, max=10), HTML(value='')))"
      ]
     },
     "metadata": {},
     "output_type": "display_data"
    },
    {
     "name": "stdout",
     "output_type": "stream",
     "text": [
      "select 50 best features\n",
      "select 100 best features\n",
      "select 150 best features\n",
      "select 200 best features\n",
      "select 250 best features\n",
      "select 300 best features\n",
      "select 350 best features\n",
      "select 400 best features\n",
      "select 450 best features\n",
      "select 500 best features\n",
      "\n"
     ]
    },
    {
     "data": {
      "image/png": "[encoded data removed]",
      "text/plain": [
       "<Figure size 432x288 with 1 Axes>"
      ]
     },
     "metadata": {
      "needs_background": "light"
     },
     "output_type": "display_data"
    }
   ],
   "source": [
    "_=feature_selection(clf, train_X, train_Y, test_X, test_Y, metric='f1_score')"
   ]
  },
  {
   "cell_type": "markdown",
   "metadata": {},
   "source": [
    "Naturally the more features we selected, the better f1_score the model will gain. As mentioned, considering the computation speed, I'll choose the at most top 200 informative features for future steps."
   ]
  },
  {
   "cell_type": "markdown",
   "metadata": {},
   "source": [
    "## 3.4 Tune hyper-parameters"
   ]
  },
  {
   "cell_type": "code",
   "execution_count": 35,
   "metadata": {},
   "outputs": [],
   "source": [
    "clf=GridSearchCV(LogisticRegression(multi_class='multinomial', max_iter=1000), \n",
    "                 {'solver':['newton-cg', 'lbfgs', 'sag', 'saga'], \n",
    "                  'C':[0.5, 0.1, 1, 5, 10]}, \n",
    "                 cv=3)"
   ]
  },
  {
   "cell_type": "code",
   "execution_count": 37,
   "metadata": {},
   "outputs": [
    {
     "data": {
      "text/html": [
       "<div>\n",
       "<style scoped>\n",
       "    .dataframe tbody tr th:only-of-type {\n",
       "        vertical-align: middle;\n",
       "    }\n",
       "\n",
       "    .dataframe tbody tr th {\n",
       "        vertical-align: top;\n",
       "    }\n",
       "\n",
       "    .dataframe thead th {\n",
       "        text-align: right;\n",
       "    }\n",
       "</style>\n",
       "<table border=\"1\" class=\"dataframe\">\n",
       "  <thead>\n",
       "    <tr style=\"text-align: right;\">\n",
       "      <th></th>\n",
       "      <th>accuracy</th>\n",
       "      <th>better_than_null</th>\n",
       "      <th>f1_score</th>\n",
       "      <th>precision</th>\n",
       "      <th>recall</th>\n",
       "      <th>running_time</th>\n",
       "    </tr>\n",
       "  </thead>\n",
       "  <tbody>\n",
       "    <tr>\n",
       "      <th>GridSearchCV</th>\n",
       "      <td>0.765027</td>\n",
       "      <td>True</td>\n",
       "      <td>0.757415</td>\n",
       "      <td>0.75577</td>\n",
       "      <td>0.765027</td>\n",
       "      <td>78.2616</td>\n",
       "    </tr>\n",
       "  </tbody>\n",
       "</table>\n",
       "</div>"
      ],
      "text/plain": [
       "              accuracy better_than_null  f1_score precision    recall  \\\n",
       "GridSearchCV  0.765027             True  0.757415   0.75577  0.765027   \n",
       "\n",
       "             running_time  \n",
       "GridSearchCV      78.2616  "
      ]
     },
     "metadata": {},
     "output_type": "display_data"
    },
    {
     "data": {
      "text/html": [
       "<div>\n",
       "<style scoped>\n",
       "    .dataframe tbody tr th:only-of-type {\n",
       "        vertical-align: middle;\n",
       "    }\n",
       "\n",
       "    .dataframe tbody tr th {\n",
       "        vertical-align: top;\n",
       "    }\n",
       "\n",
       "    .dataframe thead th {\n",
       "        text-align: right;\n",
       "    }\n",
       "</style>\n",
       "<table border=\"1\" class=\"dataframe\">\n",
       "  <thead>\n",
       "    <tr style=\"text-align: right;\">\n",
       "      <th></th>\n",
       "      <th>predicted_positive</th>\n",
       "      <th>predicted_neutral</th>\n",
       "      <th>predicted_negative</th>\n",
       "    </tr>\n",
       "  </thead>\n",
       "  <tbody>\n",
       "    <tr>\n",
       "      <th>positive</th>\n",
       "      <td>141</td>\n",
       "      <td>26</td>\n",
       "      <td>57</td>\n",
       "    </tr>\n",
       "    <tr>\n",
       "      <th>neutral</th>\n",
       "      <td>26</td>\n",
       "      <td>165</td>\n",
       "      <td>134</td>\n",
       "    </tr>\n",
       "    <tr>\n",
       "      <th>negative</th>\n",
       "      <td>25</td>\n",
       "      <td>76</td>\n",
       "      <td>814</td>\n",
       "    </tr>\n",
       "  </tbody>\n",
       "</table>\n",
       "</div>"
      ],
      "text/plain": [
       "          predicted_positive  predicted_neutral  predicted_negative\n",
       "positive                 141                 26                  57\n",
       "neutral                   26                165                 134\n",
       "negative                  25                 76                 814"
      ]
     },
     "metadata": {},
     "output_type": "display_data"
    }
   ],
   "source": [
    "chi2_selector=chi_squared_select(200, train_X, train_Y)\n",
    "summarize_model(clf, \n",
    "                chi2_selector.transform(train_X), train_Y, \n",
    "                chi2_selector.transform(test_X), test_Y)"
   ]
  },
  {
   "cell_type": "code",
   "execution_count": 38,
   "metadata": {},
   "outputs": [
    {
     "data": {
      "text/plain": [
       "{'cv': 3,\n",
       " 'error_score': 'raise-deprecating',\n",
       " 'estimator__C': 1.0,\n",
       " 'estimator__class_weight': None,\n",
       " 'estimator__dual': False,\n",
       " 'estimator__fit_intercept': True,\n",
       " 'estimator__intercept_scaling': 1,\n",
       " 'estimator__max_iter': 1000,\n",
       " 'estimator__multi_class': 'multinomial',\n",
       " 'estimator__n_jobs': None,\n",
       " 'estimator__penalty': 'l2',\n",
       " 'estimator__random_state': None,\n",
       " 'estimator__solver': 'warn',\n",
       " 'estimator__tol': 0.0001,\n",
       " 'estimator__verbose': 0,\n",
       " 'estimator__warm_start': False,\n",
       " 'estimator': LogisticRegression(C=1.0, class_weight=None, dual=False, fit_intercept=True,\n",
       "           intercept_scaling=1, max_iter=1000, multi_class='multinomial',\n",
       "           n_jobs=None, penalty='l2', random_state=None, solver='warn',\n",
       "           tol=0.0001, verbose=0, warm_start=False),\n",
       " 'fit_params': None,\n",
       " 'iid': 'warn',\n",
       " 'n_jobs': None,\n",
       " 'param_grid': {'solver': ['newton-cg', 'lbfgs', 'sag', 'saga'],\n",
       "  'C': [0.5, 0.1, 1, 5, 10]},\n",
       " 'pre_dispatch': '2*n_jobs',\n",
       " 'refit': True,\n",
       " 'return_train_score': 'warn',\n",
       " 'scoring': None,\n",
       " 'verbose': 0}"
      ]
     },
     "execution_count": 38,
     "metadata": {},
     "output_type": "execute_result"
    }
   ],
   "source": [
    "clf.get_params()"
   ]
  },
  {
   "cell_type": "markdown",
   "metadata": {},
   "source": [
    "## 3.5. Evaluation and Comparison"
   ]
  },
  {
   "cell_type": "code",
   "execution_count": 39,
   "metadata": {},
   "outputs": [],
   "source": [
    "def model_comparator(classifiers, train_X, train_Y, test_X, test_Y, k=100):\n",
    "    results={}\n",
    "    chi2_selector=chi_squared_select(k, train_X, train_Y)\n",
    "    train_X_kbest=chi2_selector.transform(train_X)\n",
    "    test_X_kbest=chi2_selector.transform(test_X)\n",
    "    for clf in tqdm_notebook(classifiers):\n",
    "        clf_name=clf['model'].__class__.__name__\n",
    "        print('Grid search for', clf_name)\n",
    "        clf=GridSearchCV(clf['model'], clf['params'], cv=3)\n",
    "        _,result=model(clf, train_X_kbest, train_Y, test_X_kbest, test_Y)\n",
    "        results[clf_name]=result['GridSearchCV']\n",
    "    return pd.DataFrame.from_dict(results, orient='index')"
   ]
  },
  {
   "cell_type": "code",
   "execution_count": 40,
   "metadata": {},
   "outputs": [],
   "source": [
    "classifiers = [\n",
    "    {'model': LogisticRegression(multi_class='multinomial', max_iter=1000),\n",
    "     'params': {'solver':['newton-cg', 'lbfgs', 'sag', 'saga'], \n",
    "                'C':[0.5, 0.1, 1, 5, 10]}},\n",
    "    {'model': SVC(), \n",
    "     'params':[{'kernel':['linear'], 'C':[1, 10, 100, 1000], 'gamma':['auto']},\n",
    "               {'kernel':['rbf'], 'C':[1, 10, 100, 1000], 'gamma':[0.001, 0.0001]}]},\n",
    "    {'model': DecisionTreeClassifier(), \n",
    "     'params': {}},\n",
    "    {'model': RandomForestClassifier(),\n",
    "     'params': {'n_estimators': [10, 50, 100, 200]}},\n",
    "    {'model': GradientBoostingClassifier(),\n",
    "     'params': {'n_estimators': [10, 50, 100, 200], \n",
    "                'learning_rate': [0.05, 0.01, 0.1]}},\n",
    "    {'model': KNeighborsClassifier(100),\n",
    "     'params': {'n_neighbors':[50, 100, 200, 500, 1000]}},\n",
    "    ]"
   ]
  },
  {
   "cell_type": "code",
   "execution_count": 41,
   "metadata": {
    "scrolled": false
   },
   "outputs": [
    {
     "data": {
      "application/vnd.jupyter.widget-view+json": {
       "model_id": "c4274175dbdf437cab25ef6787bad69c",
       "version_major": 2,
       "version_minor": 0
      },
      "text/plain": [
       "HBox(children=(IntProgress(value=0, max=6), HTML(value='')))"
      ]
     },
     "metadata": {},
     "output_type": "display_data"
    },
    {
     "name": "stdout",
     "output_type": "stream",
     "text": [
      "Grid search for LogisticRegression\n",
      "Grid search for SVC\n",
      "Grid search for DecisionTreeClassifier\n",
      "Grid search for RandomForestClassifier\n",
      "Grid search for GradientBoostingClassifier\n",
      "Grid search for KNeighborsClassifier\n",
      "\n"
     ]
    }
   ],
   "source": [
    "comparator=model_comparator(classifiers, train_X, train_Y, test_X, test_Y)"
   ]
  },
  {
   "cell_type": "code",
   "execution_count": 42,
   "metadata": {
    "scrolled": true
   },
   "outputs": [
    {
     "data": {
      "text/html": [
       "<div>\n",
       "<style scoped>\n",
       "    .dataframe tbody tr th:only-of-type {\n",
       "        vertical-align: middle;\n",
       "    }\n",
       "\n",
       "    .dataframe tbody tr th {\n",
       "        vertical-align: top;\n",
       "    }\n",
       "\n",
       "    .dataframe thead th {\n",
       "        text-align: right;\n",
       "    }\n",
       "</style>\n",
       "<table border=\"1\" class=\"dataframe\">\n",
       "  <thead>\n",
       "    <tr style=\"text-align: right;\">\n",
       "      <th></th>\n",
       "      <th>better_than_null</th>\n",
       "      <th>accuracy</th>\n",
       "      <th>f1_score</th>\n",
       "      <th>precision</th>\n",
       "      <th>recall</th>\n",
       "      <th>running_time</th>\n",
       "    </tr>\n",
       "  </thead>\n",
       "  <tbody>\n",
       "    <tr>\n",
       "      <th>KNeighborsClassifier</th>\n",
       "      <td>True</td>\n",
       "      <td>0.687842</td>\n",
       "      <td>0.654790</td>\n",
       "      <td>0.708497</td>\n",
       "      <td>0.687842</td>\n",
       "      <td>299.258087</td>\n",
       "    </tr>\n",
       "    <tr>\n",
       "      <th>DecisionTreeClassifier</th>\n",
       "      <td>True</td>\n",
       "      <td>0.666667</td>\n",
       "      <td>0.669325</td>\n",
       "      <td>0.672540</td>\n",
       "      <td>0.666667</td>\n",
       "      <td>0.772930</td>\n",
       "    </tr>\n",
       "    <tr>\n",
       "      <th>SVC</th>\n",
       "      <td>True</td>\n",
       "      <td>0.757514</td>\n",
       "      <td>0.747686</td>\n",
       "      <td>0.746218</td>\n",
       "      <td>0.757514</td>\n",
       "      <td>648.387987</td>\n",
       "    </tr>\n",
       "    <tr>\n",
       "      <th>LogisticRegression</th>\n",
       "      <td>True</td>\n",
       "      <td>0.758197</td>\n",
       "      <td>0.748044</td>\n",
       "      <td>0.746041</td>\n",
       "      <td>0.758197</td>\n",
       "      <td>47.039909</td>\n",
       "    </tr>\n",
       "    <tr>\n",
       "      <th>RandomForestClassifier</th>\n",
       "      <td>True</td>\n",
       "      <td>0.762978</td>\n",
       "      <td>0.750692</td>\n",
       "      <td>0.752767</td>\n",
       "      <td>0.762978</td>\n",
       "      <td>22.229790</td>\n",
       "    </tr>\n",
       "    <tr>\n",
       "      <th>GradientBoostingClassifier</th>\n",
       "      <td>True</td>\n",
       "      <td>0.771175</td>\n",
       "      <td>0.761543</td>\n",
       "      <td>0.760706</td>\n",
       "      <td>0.771175</td>\n",
       "      <td>312.023936</td>\n",
       "    </tr>\n",
       "  </tbody>\n",
       "</table>\n",
       "</div>"
      ],
      "text/plain": [
       "                            better_than_null  accuracy  f1_score  precision  \\\n",
       "KNeighborsClassifier                    True  0.687842  0.654790   0.708497   \n",
       "DecisionTreeClassifier                  True  0.666667  0.669325   0.672540   \n",
       "SVC                                     True  0.757514  0.747686   0.746218   \n",
       "LogisticRegression                      True  0.758197  0.748044   0.746041   \n",
       "RandomForestClassifier                  True  0.762978  0.750692   0.752767   \n",
       "GradientBoostingClassifier              True  0.771175  0.761543   0.760706   \n",
       "\n",
       "                              recall  running_time  \n",
       "KNeighborsClassifier        0.687842    299.258087  \n",
       "DecisionTreeClassifier      0.666667      0.772930  \n",
       "SVC                         0.757514    648.387987  \n",
       "LogisticRegression          0.758197     47.039909  \n",
       "RandomForestClassifier      0.762978     22.229790  \n",
       "GradientBoostingClassifier  0.771175    312.023936  "
      ]
     },
     "execution_count": 42,
     "metadata": {},
     "output_type": "execute_result"
    }
   ],
   "source": [
    "comparator.sort_values(by=['f1_score'])"
   ]
  },
  {
   "cell_type": "code",
   "execution_count": 43,
   "metadata": {},
   "outputs": [
    {
     "data": {
      "application/vnd.jupyter.widget-view+json": {
       "model_id": "bb2bf1f34e8440038e464e9d1747905f",
       "version_major": 2,
       "version_minor": 0
      },
      "text/plain": [
       "HBox(children=(IntProgress(value=0, max=6), HTML(value='')))"
      ]
     },
     "metadata": {},
     "output_type": "display_data"
    },
    {
     "name": "stdout",
     "output_type": "stream",
     "text": [
      "Grid search for LogisticRegression\n",
      "Grid search for SVC\n",
      "Grid search for DecisionTreeClassifier\n",
      "Grid search for RandomForestClassifier\n",
      "Grid search for GradientBoostingClassifier\n",
      "Grid search for KNeighborsClassifier\n",
      "\n"
     ]
    },
    {
     "data": {
      "text/html": [
       "<div>\n",
       "<style scoped>\n",
       "    .dataframe tbody tr th:only-of-type {\n",
       "        vertical-align: middle;\n",
       "    }\n",
       "\n",
       "    .dataframe tbody tr th {\n",
       "        vertical-align: top;\n",
       "    }\n",
       "\n",
       "    .dataframe thead th {\n",
       "        text-align: right;\n",
       "    }\n",
       "</style>\n",
       "<table border=\"1\" class=\"dataframe\">\n",
       "  <thead>\n",
       "    <tr style=\"text-align: right;\">\n",
       "      <th></th>\n",
       "      <th>better_than_null</th>\n",
       "      <th>accuracy</th>\n",
       "      <th>f1_score</th>\n",
       "      <th>precision</th>\n",
       "      <th>recall</th>\n",
       "      <th>running_time</th>\n",
       "    </tr>\n",
       "  </thead>\n",
       "  <tbody>\n",
       "    <tr>\n",
       "      <th>KNeighborsClassifier</th>\n",
       "      <td>True</td>\n",
       "      <td>0.672131</td>\n",
       "      <td>0.614400</td>\n",
       "      <td>0.708346</td>\n",
       "      <td>0.672131</td>\n",
       "      <td>864.997084</td>\n",
       "    </tr>\n",
       "    <tr>\n",
       "      <th>DecisionTreeClassifier</th>\n",
       "      <td>True</td>\n",
       "      <td>0.662568</td>\n",
       "      <td>0.665027</td>\n",
       "      <td>0.667885</td>\n",
       "      <td>0.662568</td>\n",
       "      <td>2.202787</td>\n",
       "    </tr>\n",
       "    <tr>\n",
       "      <th>RandomForestClassifier</th>\n",
       "      <td>True</td>\n",
       "      <td>0.774590</td>\n",
       "      <td>0.760851</td>\n",
       "      <td>0.765927</td>\n",
       "      <td>0.774590</td>\n",
       "      <td>36.217336</td>\n",
       "    </tr>\n",
       "    <tr>\n",
       "      <th>GradientBoostingClassifier</th>\n",
       "      <td>True</td>\n",
       "      <td>0.771175</td>\n",
       "      <td>0.762080</td>\n",
       "      <td>0.761732</td>\n",
       "      <td>0.771175</td>\n",
       "      <td>1128.498114</td>\n",
       "    </tr>\n",
       "    <tr>\n",
       "      <th>SVC</th>\n",
       "      <td>True</td>\n",
       "      <td>0.775956</td>\n",
       "      <td>0.770097</td>\n",
       "      <td>0.767933</td>\n",
       "      <td>0.775956</td>\n",
       "      <td>1782.399961</td>\n",
       "    </tr>\n",
       "    <tr>\n",
       "      <th>LogisticRegression</th>\n",
       "      <td>True</td>\n",
       "      <td>0.780055</td>\n",
       "      <td>0.773321</td>\n",
       "      <td>0.771993</td>\n",
       "      <td>0.780055</td>\n",
       "      <td>112.874186</td>\n",
       "    </tr>\n",
       "  </tbody>\n",
       "</table>\n",
       "</div>"
      ],
      "text/plain": [
       "                            better_than_null  accuracy  f1_score  precision  \\\n",
       "KNeighborsClassifier                    True  0.672131  0.614400   0.708346   \n",
       "DecisionTreeClassifier                  True  0.662568  0.665027   0.667885   \n",
       "RandomForestClassifier                  True  0.774590  0.760851   0.765927   \n",
       "GradientBoostingClassifier              True  0.771175  0.762080   0.761732   \n",
       "SVC                                     True  0.775956  0.770097   0.767933   \n",
       "LogisticRegression                      True  0.780055  0.773321   0.771993   \n",
       "\n",
       "                              recall  running_time  \n",
       "KNeighborsClassifier        0.672131    864.997084  \n",
       "DecisionTreeClassifier      0.662568      2.202787  \n",
       "RandomForestClassifier      0.774590     36.217336  \n",
       "GradientBoostingClassifier  0.771175   1128.498114  \n",
       "SVC                         0.775956   1782.399961  \n",
       "LogisticRegression          0.780055    112.874186  "
      ]
     },
     "execution_count": 43,
     "metadata": {},
     "output_type": "execute_result"
    }
   ],
   "source": [
    "comparator=model_comparator(classifiers, train_X, train_Y, test_X, test_Y, k=300)\n",
    "comparator.sort_values(by=['f1_score'])"
   ]
  },
  {
   "cell_type": "markdown",
   "metadata": {},
   "source": [
    "After grid search of hyper parameters, we can find the comparison above. With top 100 informative features selected, Gradient boosting worked a little bit better than logistic regression (f-1 score and accuracy), but it's much slower. "
   ]
  },
  {
   "cell_type": "markdown",
   "metadata": {},
   "source": [
    "## 3.6 Review my work"
   ]
  },
  {
   "cell_type": "markdown",
   "metadata": {},
   "source": [
    "What kind of tweets are classified in wrong class? Let's go back to logistic regression (grid search cv) I built earilier:"
   ]
  },
  {
   "cell_type": "code",
   "execution_count": 45,
   "metadata": {},
   "outputs": [],
   "source": [
    "chi2_selector=chi_squared_select(200, train_X, train_Y)\n",
    "pred,result=model(clf, \n",
    "                chi2_selector.transform(train_X), train_Y, \n",
    "                chi2_selector.transform(test_X), test_Y)"
   ]
  },
  {
   "cell_type": "code",
   "execution_count": 46,
   "metadata": {},
   "outputs": [
    {
     "data": {
      "text/html": [
       "<div>\n",
       "<style scoped>\n",
       "    .dataframe tbody tr th:only-of-type {\n",
       "        vertical-align: middle;\n",
       "    }\n",
       "\n",
       "    .dataframe tbody tr th {\n",
       "        vertical-align: top;\n",
       "    }\n",
       "\n",
       "    .dataframe thead th {\n",
       "        text-align: right;\n",
       "    }\n",
       "</style>\n",
       "<table border=\"1\" class=\"dataframe\">\n",
       "  <thead>\n",
       "    <tr style=\"text-align: right;\">\n",
       "      <th></th>\n",
       "      <th>predicted_positive</th>\n",
       "      <th>predicted_neutral</th>\n",
       "      <th>predicted_negative</th>\n",
       "    </tr>\n",
       "  </thead>\n",
       "  <tbody>\n",
       "    <tr>\n",
       "      <th>positive</th>\n",
       "      <td>141</td>\n",
       "      <td>26</td>\n",
       "      <td>57</td>\n",
       "    </tr>\n",
       "    <tr>\n",
       "      <th>neutral</th>\n",
       "      <td>26</td>\n",
       "      <td>165</td>\n",
       "      <td>134</td>\n",
       "    </tr>\n",
       "    <tr>\n",
       "      <th>negative</th>\n",
       "      <td>25</td>\n",
       "      <td>76</td>\n",
       "      <td>814</td>\n",
       "    </tr>\n",
       "  </tbody>\n",
       "</table>\n",
       "</div>"
      ],
      "text/plain": [
       "          predicted_positive  predicted_neutral  predicted_negative\n",
       "positive                 141                 26                  57\n",
       "neutral                   26                165                 134\n",
       "negative                  25                 76                 814"
      ]
     },
     "execution_count": 46,
     "metadata": {},
     "output_type": "execute_result"
    }
   ],
   "source": [
    "confusion=confusion_matrix(test_Y, pred, labels=labels)\n",
    "confusion = pd.DataFrame(confusion, index=labels,\n",
    "                         columns=['predicted_'+l for l in labels])\n",
    "confusion"
   ]
  },
  {
   "cell_type": "markdown",
   "metadata": {},
   "source": [
    "The confusion matrix above implies the model is doing worst on distinguise neutral and negative tweets: they are more predicted as negtive. Also, among the predicted neutral tweets, a large part of them are actually negative. \n",
    "\n",
    "Let's look at some examples of the misclassified tweets:"
   ]
  },
  {
   "cell_type": "code",
   "execution_count": 47,
   "metadata": {},
   "outputs": [],
   "source": [
    "df=pd.DataFrame({'pred': pred, 'actual':test_Y})"
   ]
  },
  {
   "cell_type": "markdown",
   "metadata": {},
   "source": [
    "'neutral' tweets misclassified to 'negative':"
   ]
  },
  {
   "cell_type": "code",
   "execution_count": 48,
   "metadata": {},
   "outputs": [
    {
     "data": {
      "text/plain": [
       "['@united we have developers flying down tmrw morn. w/45 min layover, there is an earlier flight to have 1.5hr layover, can move them up?',\n",
       " '@united your announcement for pre boarding only addresses mobility. My disability requires me to travel with a lot of stuff. Do I preboard?',\n",
       " '@SouthwestAir I will not have my passport in time for my trip. Could I still fly with photo ID? #thingsishouldknow #ifeeldumb',\n",
       " '@AmericanAir u r horrible.went online to Cancelled Flight flight-no button-4that.Called CS &amp;wait time 40 mins&amp;put in my #.800#called&amp;it hungupNOHELP',\n",
       " '@united Hi, booked a flight yesterday and received an email w/ confirmation number but today I got this error \"no active flight segments\"',\n",
       " '@SouthwestAir but if my bag makes it with me to Greenville tonight then all is forgiven. #HighHopes',\n",
       " \"@USAirways It's 838. We boarded and we are waiting now to take off, hopefully.\",\n",
       " '@AmericanAir you set a schedule try and keep it !!! #AAALWAYSLate Flight',\n",
       " '@SouthwestAir You guys must have been swamped, even took our corporate travel a long time to get in, but everything worked out in the end.',\n",
       " '@AmericanAir on our way now']"
      ]
     },
     "execution_count": 48,
     "metadata": {},
     "output_type": "execute_result"
    }
   ],
   "source": [
    "df_neg=df[df['pred']=='negative']\n",
    "tweets.iloc[df_neg[df_neg['actual']=='neutral'].index]['text'].tolist()[:10]"
   ]
  },
  {
   "cell_type": "markdown",
   "metadata": {},
   "source": [
    "'negative' tweets misclassified to 'neutral':"
   ]
  },
  {
   "cell_type": "code",
   "execution_count": 49,
   "metadata": {},
   "outputs": [
    {
     "data": {
      "text/plain": [
       "[\"@AmericanAir In car gng to DFW. Pulled over 1hr ago - very icy roads. On-hold with AA since 1hr. Can't reach arpt for AA2450. Wat 2 do?\",\n",
       " '@AmericanAir after all, the plane didn’t land in identical or worse) conditions at GRK according to METARs.',\n",
       " \"@SouthwestAir can't believe how many paying customers you left high and dry with no reason for flight Cancelled Flightlations Monday out of BDL! Wow.\",\n",
       " '@USAirways I can legitimately say that I would have rather driven cross country than flown on US Airways.',\n",
       " '@USAirways @husainhaqqani Mr. Husain u shld protest as well when one of ur party member Rehman Malik delayed a PIA flight for hours..???',\n",
       " \"@USAirways not likely, flightaware says plane is still in Durango and hasn't departed.\",\n",
       " \"@AmericanAir they don't even give an option to hold.. Just say lines are busy Plz try Late Flightr\",\n",
       " '@USAirways it is really embarrassing when asking for complimentary drink/snack detailed here: https://t.co/9zA6xb1h89 &amp; being argued with.',\n",
       " '@AmericanAir this delayed bag was for my friend Lisa Pafe. She got her bag after 3 days in Costa Rica. Issue no updates on your system.',\n",
       " \"@SouthwestAir Didn't see travel had to be compete for unused funds by expiration date hidden in the fine print. Never saw that before.\"]"
      ]
     },
     "execution_count": 49,
     "metadata": {},
     "output_type": "execute_result"
    }
   ],
   "source": [
    "df_neu=df[df['pred']=='neutral']\n",
    "tweets.iloc[df_neg[df_neg['actual']=='negative'].index]['text'].tolist()[:10]"
   ]
  },
  {
   "cell_type": "markdown",
   "metadata": {},
   "source": [
    "Although I have tried multiple classifiers,  best accuracy and f1 score are still around 0.75. How can I improve it? Here are my thoughts:\n",
    "\n",
    "1. Select more features: At the beginning, logistic regression has about 0.79 f1 score when using all features. But since I limited features to 100-200 considering computation speed, which might be too few for the models are not well fit the data. \n",
    "2. Have another workaround on the tokens and build their weight more accurately\n"
   ]
  },
  {
   "cell_type": "code",
   "execution_count": null,
   "metadata": {},
   "outputs": [],
   "source": []
  }
 ],
 "metadata": {
  "kernelspec": {
   "display_name": "Python 3",
   "language": "python",
   "name": "python3"
  },
  "language_info": {
   "codemirror_mode": {
    "name": "ipython",
    "version": 3
   },
   "file_extension": ".py",
   "mimetype": "text/x-python",
   "name": "python",
   "nbconvert_exporter": "python",
   "pygments_lexer": "ipython3",
   "version": "3.6.8"
  },
  "latex_envs": {
   "LaTeX_envs_menu_present": true,
   "autoclose": false,
   "autocomplete": true,
   "bibliofile": "biblio.bib",
   "cite_by": "apalike",
   "current_citInitial": 1,
   "eqLabelWithNumbers": true,
   "eqNumInitial": 1,
   "hotkeys": {
    "equation": "Ctrl-E",
    "itemize": "Ctrl-I"
   },
   "labels_anchors": false,
   "latex_user_defs": false,
   "report_style_numbering": false,
   "user_envs_cfg": false
  },
  "toc": {
   "base_numbering": 1,
   "nav_menu": {},
   "number_sections": false,
   "sideBar": true,
   "skip_h1_title": false,
   "title_cell": "Table of Contents",
   "title_sidebar": "Contents",
   "toc_cell": false,
   "toc_position": {
    "height": "calc(100% - 180px)",
    "left": "10px",
    "top": "150px",
    "width": "222px"
   },
   "toc_section_display": true,
   "toc_window_display": true
  },
  "varInspector": {
   "cols": {
    "lenName": 16,
    "lenType": 16,
    "lenVar": 40
   },
   "kernels_config": {
    "python": {
     "delete_cmd_postfix": "",
     "delete_cmd_prefix": "del ",
     "library": "var_list.py",
     "varRefreshCmd": "print(var_dic_list())"
    },
    "r": {
     "delete_cmd_postfix": ") ",
     "delete_cmd_prefix": "rm(",
     "library": "var_list.r",
     "varRefreshCmd": "cat(var_dic_list()) "
    }
   },
   "types_to_exclude": [
    "module",
    "function",
    "builtin_function_or_method",
    "instance",
    "_Feature"
   ],
   "window_display": false
  }
 },
 "nbformat": 4,
 "nbformat_minor": 1
}
