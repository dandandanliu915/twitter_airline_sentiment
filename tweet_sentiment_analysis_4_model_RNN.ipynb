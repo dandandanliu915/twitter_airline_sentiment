{
 "cells": [
  {
   "cell_type": "markdown",
   "metadata": {},
   "source": [
    "https://www.kaggle.com/crowdflower/twitter-airline-sentiment"
   ]
  },
  {
   "cell_type": "markdown",
   "metadata": {},
   "source": [
    "#### Import modules"
   ]
  },
  {
   "cell_type": "code",
   "execution_count": 1,
   "metadata": {},
   "outputs": [],
   "source": [
    "%matplotlib inline"
   ]
  },
  {
   "cell_type": "code",
   "execution_count": 2,
   "metadata": {},
   "outputs": [
    {
     "name": "stderr",
     "output_type": "stream",
     "text": [
      "Using TensorFlow backend.\n"
     ]
    }
   ],
   "source": [
    "try:\n",
    "    from IPython.display import display\n",
    "    import numpy as np\n",
    "    import pandas as pd\n",
    "    import matplotlib.pyplot as plt\n",
    "    import os, sys, urllib\n",
    "    from zipfile import ZipFile\n",
    "    \n",
    "    from time import time\n",
    "    from sklearn.utils import class_weight as cw\n",
    "    from sklearn.model_selection import train_test_split\n",
    "    from sklearn.metrics import confusion_matrix, f1_score, precision_score, recall_score\n",
    "\n",
    "    from keras.models import Model\n",
    "    from keras.layers import Dense, Input, Dropout, LSTM, Activation, BatchNormalization\n",
    "    from keras.layers.embeddings import Embedding\n",
    "    from keras.preprocessing import sequence\n",
    "    from keras.initializers import glorot_uniform\n",
    "\n",
    "except:\n",
    "    !pip install -r requirements.txt > /dev/null\n",
    "    !python -m nltk.downloader stopwords > /dev/null\n",
    "    \n",
    "np.random.seed(0)"
   ]
  },
  {
   "cell_type": "code",
   "execution_count": 3,
   "metadata": {},
   "outputs": [],
   "source": [
    "tweets=pd.read_csv('Tweets_preprocess.csv', index_col=0)"
   ]
  },
  {
   "cell_type": "code",
   "execution_count": 4,
   "metadata": {},
   "outputs": [],
   "source": [
    "labels=['positive', 'neutral', 'negative']"
   ]
  },
  {
   "cell_type": "code",
   "execution_count": 5,
   "metadata": {},
   "outputs": [],
   "source": [
    "train_X, test_X, train_Y, test_Y=train_test_split(tweets['text_clean'], tweets['sentiment'], test_size=0.1)"
   ]
  },
  {
   "cell_type": "code",
   "execution_count": 6,
   "metadata": {},
   "outputs": [
    {
     "data": {
      "text/plain": [
       "((13176,), (13176,))"
      ]
     },
     "execution_count": 6,
     "metadata": {},
     "output_type": "execute_result"
    }
   ],
   "source": [
    "train_X.shape, train_Y.shape"
   ]
  },
  {
   "cell_type": "code",
   "execution_count": 7,
   "metadata": {},
   "outputs": [
    {
     "data": {
      "text/plain": [
       "((1464,), (1464,))"
      ]
     },
     "execution_count": 7,
     "metadata": {},
     "output_type": "execute_result"
    }
   ],
   "source": [
    "test_X.shape, test_Y.shape"
   ]
  },
  {
   "cell_type": "code",
   "execution_count": 8,
   "metadata": {},
   "outputs": [],
   "source": [
    "maxLen = len(max(train_X, key=len).split())"
   ]
  },
  {
   "cell_type": "markdown",
   "metadata": {},
   "source": [
    "# 4. Model - RNN"
   ]
  },
  {
   "cell_type": "markdown",
   "metadata": {},
   "source": [
    "## 4.1 Load pre-trained word embedding \n",
    "Because word embeddings are very computionally expensive to train, I will use 50-dimensional GloVe vectors to represent words. It is a pre-trained set of word embeddings\n",
    "\n",
    "**References to**:\n",
    "- The GloVe word embeddings were due to Jeffrey Pennington, Richard Socher, and Christopher D. Manning. (https://nlp.stanford.edu/projects/glove/)\n",
    "- Deep Learning, Andrew Ng at Cousera (https://www.coursera.org/learn/nlp-sequence-models/home/week/2)"
   ]
  },
  {
   "cell_type": "code",
   "execution_count": 9,
   "metadata": {},
   "outputs": [],
   "source": [
    "if not os.path.exists('glove.6B.50d.txt'):\n",
    "    with ZipFile('glove.6B.50d.txt.zip', 'r') as zipObj:\n",
    "        zipObj.extractall()"
   ]
  },
  {
   "cell_type": "code",
   "execution_count": 10,
   "metadata": {},
   "outputs": [],
   "source": [
    "def read_glove_vecs(glove_file):\n",
    "    with open(glove_file, 'r') as f:\n",
    "        words = set()\n",
    "        word_to_vec_map = {}\n",
    "        for line in f:\n",
    "            line = line.strip().split()\n",
    "            curr_word = line[0]\n",
    "            words.add(curr_word)\n",
    "            word_to_vec_map[curr_word] = np.array(line[1:], dtype=np.float64)\n",
    "        \n",
    "        i = 1\n",
    "        words_to_index = {}\n",
    "        index_to_words = {}\n",
    "        for w in sorted(words):\n",
    "            words_to_index[w] = i\n",
    "            index_to_words[i] = w\n",
    "            i = i + 1\n",
    "    return words_to_index, index_to_words, word_to_vec_map"
   ]
  },
  {
   "cell_type": "code",
   "execution_count": 11,
   "metadata": {},
   "outputs": [],
   "source": [
    "word_to_index, index_to_word, word_to_vec_map=read_glove_vecs('glove.6B.50d.txt')"
   ]
  },
  {
   "cell_type": "code",
   "execution_count": 12,
   "metadata": {},
   "outputs": [
    {
     "name": "stdout",
     "output_type": "stream",
     "text": [
      "The pre-trained set contains 400000 words\n"
     ]
    }
   ],
   "source": [
    "print('The pre-trained set contains',len(word_to_index),'words')"
   ]
  },
  {
   "cell_type": "code",
   "execution_count": 13,
   "metadata": {},
   "outputs": [
    {
     "name": "stdout",
     "output_type": "stream",
     "text": [
      "Each word is represend as a 50 dimension vector\n"
     ]
    }
   ],
   "source": [
    "print('Each word is represend as a', word_to_vec_map['dummy'].shape[0], 'dimension vector')"
   ]
  },
  {
   "cell_type": "markdown",
   "metadata": {},
   "source": [
    "## 4.2 Preprocess"
   ]
  },
  {
   "cell_type": "markdown",
   "metadata": {},
   "source": [
    "Convert each tweet to its glove-represented index list"
   ]
  },
  {
   "cell_type": "code",
   "execution_count": 14,
   "metadata": {},
   "outputs": [],
   "source": [
    "def sentences_to_indices(X, word_to_index, max_len):\n",
    "    m = X.shape[0]\n",
    "    X_indices = np.zeros((m, max_len))\n",
    "    \n",
    "    for i in range(m): \n",
    "        sentence_words = [w.lower() for w in X[i].split()]\n",
    "        j = 0\n",
    "        for w in sentence_words:\n",
    "            if w not in word_to_index:\n",
    "                break\n",
    "            X_indices[i, j] = word_to_index[w]\n",
    "            j += 1\n",
    "\n",
    "    return X_indices"
   ]
  },
  {
   "cell_type": "code",
   "execution_count": 15,
   "metadata": {},
   "outputs": [],
   "source": [
    "def convert_to_one_hot(Y):\n",
    "    return pd.get_dummies(Y)"
   ]
  },
  {
   "cell_type": "code",
   "execution_count": 16,
   "metadata": {},
   "outputs": [],
   "source": [
    "train_X_indices=sentences_to_indices(train_X.values, word_to_index, maxLen)\n",
    "test_X_indices=sentences_to_indices(test_X.values, word_to_index, maxLen)\n",
    "\n",
    "train_Y_oh=convert_to_one_hot(train_Y)\n",
    "test_Y_oh=convert_to_one_hot(test_Y)"
   ]
  },
  {
   "cell_type": "code",
   "execution_count": 17,
   "metadata": {},
   "outputs": [],
   "source": [
    "get_class_weight=lambda x: cw.compute_class_weight('balanced', np.unique(x), x)\n",
    "class_weight=get_class_weight(train_Y)"
   ]
  },
  {
   "cell_type": "markdown",
   "metadata": {},
   "source": [
    "## 4.3 Build model"
   ]
  },
  {
   "cell_type": "code",
   "execution_count": 18,
   "metadata": {},
   "outputs": [],
   "source": [
    "def pretrained_embedding_layer(word_to_vec_map, word_to_index, trainable=False):\n",
    "    \"\"\"\n",
    "    Creates a Keras Embedding() layer and loads in pre-trained GloVe 50-dimensional vectors.\n",
    "    \"\"\"\n",
    "    vocab_len = len(word_to_index) + 1 \n",
    "    emb_dim = word_to_vec_map[\"dummy\"].shape[0]\n",
    "    \n",
    "    emb_matrix = np.zeros((vocab_len, emb_dim))\n",
    "    for word, index in word_to_index.items():\n",
    "        emb_matrix[index, :] = word_to_vec_map[word]\n",
    "\n",
    "    embedding_layer = Embedding(vocab_len, emb_dim, trainable=trainable)\n",
    "    embedding_layer.build((None,))\n",
    "    embedding_layer.set_weights([emb_matrix])\n",
    "    \n",
    "    return embedding_layer"
   ]
  },
  {
   "cell_type": "code",
   "execution_count": 20,
   "metadata": {},
   "outputs": [],
   "source": [
    "def plot_history(history, c):\n",
    "    plt.figure()\n",
    "    \n",
    "    xlabel = 'Epoch'\n",
    "    legends = ['Training', 'Validation']\n",
    "\n",
    "    y1=history.history[c]\n",
    "    y2=history.history['val_'+c]\n",
    "\n",
    "    plt.plot(y1)\n",
    "    plt.plot(y2)\n",
    "\n",
    "    plt.title('Model '+c)\n",
    "    plt.xlabel('epoch')\n",
    "    plt.ylabel(c)\n",
    "    plt.legend(legends, loc='upper left')\n",
    "    plt.grid()\n",
    "    plt.show()"
   ]
  },
  {
   "cell_type": "code",
   "execution_count": 21,
   "metadata": {},
   "outputs": [],
   "source": [
    "def run(model, \n",
    "        train_X_indices=train_X_indices, train_Y_oh=train_Y_oh,\n",
    "        labels=labels, **kwargs):\n",
    "    start=time()\n",
    "    model.compile(loss=kwargs['loss'], optimizer=kwargs['optimizer'], metrics=kwargs['metrics'])\n",
    "    history=model.fit(train_X_indices, train_Y_oh, \n",
    "                    epochs=kwargs['epochs'], batch_size=kwargs['batch_size'], \n",
    "                    validation_split=kwargs['validation_split'], class_weight=kwargs['class_weight'])\n",
    "    end=time()\n",
    "    \n",
    "    print('Model runs for:', end-start)\n",
    "    return history, model"
   ]
  },
  {
   "cell_type": "code",
   "execution_count": 43,
   "metadata": {},
   "outputs": [],
   "source": [
    "def evaluate(history, model,\n",
    "            test_X_indices=test_X_indices, test_Y_oh=test_Y_oh):\n",
    "    plot_history(history, 'loss')\n",
    "    plot_history(history, 'acc')\n",
    "    \n",
    "    loss, acc=model.evaluate(test_X_indices, test_Y_oh)\n",
    "    \n",
    "    print(\"Test accuracy = \", acc)\n",
    "    pred=model.predict(test_X_indices)\n",
    "    pred=[*map(lambda x: test_Y_oh.columns[np.argmax(x)], pred)]\n",
    "    print(\"Test f1 score = \", f1_score(test_Y, pred, average='weighted'))\n",
    "    confusion=confusion_matrix(test_Y, pred, labels=labels)\n",
    "    confusion = pd.DataFrame(confusion, index=labels,\n",
    "                             columns=['predicted_'+l for l in labels])\n",
    "    display(confusion)"
   ]
  },
  {
   "cell_type": "code",
   "execution_count": 23,
   "metadata": {},
   "outputs": [],
   "source": [
    "params={\n",
    "    'loss': 'categorical_crossentropy',\n",
    "    'optimizer': 'adam',\n",
    "    'metrics': ['accuracy'],\n",
    "    'epochs': 100,\n",
    "    'batch_size': 128,\n",
    "    'validation_split': 0.2,\n",
    "    'class_weight': class_weight\n",
    "}"
   ]
  },
  {
   "cell_type": "markdown",
   "metadata": {},
   "source": [
    "### 4.3.1 Train model 1"
   ]
  },
  {
   "cell_type": "code",
   "execution_count": 19,
   "metadata": {},
   "outputs": [],
   "source": [
    "def model_rnn_1(input_shape, word_to_vec_map, word_to_index):\n",
    "    sentence_indices = Input(shape=input_shape, dtype='int32')\n",
    "    \n",
    "    embedding_layer = pretrained_embedding_layer(word_to_vec_map, word_to_index)\n",
    "    embeddings = embedding_layer(sentence_indices)\n",
    "    \n",
    "    X=LSTM(128, return_sequences=True)(embeddings)\n",
    "    X=Dropout(0.5)(X)\n",
    "\n",
    "    X=LSTM(128, return_sequences=False)(X)\n",
    "    X=Dropout(0.5)(X)\n",
    "    \n",
    "    X=Dense(3)(X)\n",
    "    X=Activation('softmax')(X)\n",
    "    \n",
    "    model = Model(inputs=sentence_indices, outputs=X)    \n",
    "    return model"
   ]
  },
  {
   "cell_type": "code",
   "execution_count": 24,
   "metadata": {
    "scrolled": false
   },
   "outputs": [
    {
     "name": "stdout",
     "output_type": "stream",
     "text": [
      "WARNING:tensorflow:From /home/ec2-user/anaconda3/lib/python3.6/site-packages/tensorflow/python/framework/op_def_library.py:263: colocate_with (from tensorflow.python.framework.ops) is deprecated and will be removed in a future version.\n",
      "Instructions for updating:\n",
      "Colocations handled automatically by placer.\n",
      "WARNING:tensorflow:From /home/ec2-user/anaconda3/lib/python3.6/site-packages/keras/backend/tensorflow_backend.py:3445: calling dropout (from tensorflow.python.ops.nn_ops) with keep_prob is deprecated and will be removed in a future version.\n",
      "Instructions for updating:\n",
      "Please use `rate` instead of `keep_prob`. Rate should be set to `rate = 1 - keep_prob`.\n",
      "_________________________________________________________________\n",
      "Layer (type)                 Output Shape              Param #   \n",
      "=================================================================\n",
      "input_1 (InputLayer)         (None, 89)                0         \n",
      "_________________________________________________________________\n",
      "embedding_1 (Embedding)      (None, 89, 50)            20000050  \n",
      "_________________________________________________________________\n",
      "lstm_1 (LSTM)                (None, 89, 128)           91648     \n",
      "_________________________________________________________________\n",
      "dropout_1 (Dropout)          (None, 89, 128)           0         \n",
      "_________________________________________________________________\n",
      "lstm_2 (LSTM)                (None, 128)               131584    \n",
      "_________________________________________________________________\n",
      "dropout_2 (Dropout)          (None, 128)               0         \n",
      "_________________________________________________________________\n",
      "dense_1 (Dense)              (None, 3)                 387       \n",
      "_________________________________________________________________\n",
      "activation_1 (Activation)    (None, 3)                 0         \n",
      "=================================================================\n",
      "Total params: 20,223,669\n",
      "Trainable params: 223,619\n",
      "Non-trainable params: 20,000,050\n",
      "_________________________________________________________________\n"
     ]
    }
   ],
   "source": [
    "model1=model_rnn_1((maxLen,), word_to_vec_map, word_to_index)\n",
    "model1.summary()"
   ]
  },
  {
   "cell_type": "code",
   "execution_count": 26,
   "metadata": {
    "scrolled": true
   },
   "outputs": [
    {
     "name": "stdout",
     "output_type": "stream",
     "text": [
      "WARNING:tensorflow:From /home/ec2-user/anaconda3/lib/python3.6/site-packages/tensorflow/python/ops/math_ops.py:3066: to_int32 (from tensorflow.python.ops.math_ops) is deprecated and will be removed in a future version.\n",
      "Instructions for updating:\n",
      "Use tf.cast instead.\n",
      "Train on 10540 samples, validate on 2636 samples\n",
      "Epoch 1/100\n",
      "10540/10540 [==============================] - 44s 4ms/step - loss: 0.9347 - acc: 0.6265 - val_loss: 0.9325 - val_acc: 0.6218\n",
      "Epoch 2/100\n",
      "10540/10540 [==============================] - 42s 4ms/step - loss: 0.9175 - acc: 0.6286 - val_loss: 0.9301 - val_acc: 0.6218\n",
      "Epoch 3/100\n",
      "10540/10540 [==============================] - 43s 4ms/step - loss: 0.9180 - acc: 0.6286 - val_loss: 0.9230 - val_acc: 0.6218\n",
      "Epoch 4/100\n",
      "10540/10540 [==============================] - 43s 4ms/step - loss: 0.9042 - acc: 0.6284 - val_loss: 0.8278 - val_acc: 0.6153\n",
      "Epoch 5/100\n",
      "10540/10540 [==============================] - 43s 4ms/step - loss: 0.8289 - acc: 0.6352 - val_loss: 0.8082 - val_acc: 0.6214\n",
      "Epoch 6/100\n",
      "10540/10540 [==============================] - 43s 4ms/step - loss: 0.7692 - acc: 0.6712 - val_loss: 0.7600 - val_acc: 0.6794\n",
      "Epoch 7/100\n",
      "10540/10540 [==============================] - 43s 4ms/step - loss: 0.7461 - acc: 0.6806 - val_loss: 0.7594 - val_acc: 0.6855\n",
      "Epoch 8/100\n",
      "10540/10540 [==============================] - 43s 4ms/step - loss: 0.7159 - acc: 0.6953 - val_loss: 0.7440 - val_acc: 0.6980\n",
      "Epoch 9/100\n",
      "10540/10540 [==============================] - 43s 4ms/step - loss: 0.6863 - acc: 0.7107 - val_loss: 0.6767 - val_acc: 0.7075\n",
      "Epoch 10/100\n",
      "10540/10540 [==============================] - 43s 4ms/step - loss: 0.6631 - acc: 0.7182 - val_loss: 0.6622 - val_acc: 0.7344\n",
      "Epoch 11/100\n",
      "10540/10540 [==============================] - 43s 4ms/step - loss: 0.6450 - acc: 0.7332 - val_loss: 0.6846 - val_acc: 0.7030\n",
      "Epoch 12/100\n",
      "10540/10540 [==============================] - 43s 4ms/step - loss: 0.6525 - acc: 0.7327 - val_loss: 0.6540 - val_acc: 0.7405\n",
      "Epoch 13/100\n",
      "10540/10540 [==============================] - 43s 4ms/step - loss: 0.6341 - acc: 0.7413 - val_loss: 0.6487 - val_acc: 0.7356\n",
      "Epoch 14/100\n",
      "10540/10540 [==============================] - 43s 4ms/step - loss: 0.6228 - acc: 0.7497 - val_loss: 0.6455 - val_acc: 0.7424\n",
      "Epoch 15/100\n",
      "10540/10540 [==============================] - 43s 4ms/step - loss: 0.6102 - acc: 0.7535 - val_loss: 0.6455 - val_acc: 0.7508\n",
      "Epoch 16/100\n",
      "10540/10540 [==============================] - 43s 4ms/step - loss: 0.6514 - acc: 0.7312 - val_loss: 0.6620 - val_acc: 0.7329\n",
      "Epoch 17/100\n",
      "10540/10540 [==============================] - 43s 4ms/step - loss: 0.6025 - acc: 0.7572 - val_loss: 0.6303 - val_acc: 0.7515\n",
      "Epoch 18/100\n",
      "10540/10540 [==============================] - 43s 4ms/step - loss: 0.6015 - acc: 0.7532 - val_loss: 0.7275 - val_acc: 0.7322\n",
      "Epoch 19/100\n",
      "10540/10540 [==============================] - 43s 4ms/step - loss: 0.6305 - acc: 0.7475 - val_loss: 0.6504 - val_acc: 0.7310\n",
      "Epoch 20/100\n",
      "10540/10540 [==============================] - 43s 4ms/step - loss: 0.6348 - acc: 0.7343 - val_loss: 0.6506 - val_acc: 0.7234\n",
      "Epoch 21/100\n",
      "10540/10540 [==============================] - 43s 4ms/step - loss: 0.6020 - acc: 0.7441 - val_loss: 0.6367 - val_acc: 0.7413\n",
      "Epoch 22/100\n",
      "10540/10540 [==============================] - 43s 4ms/step - loss: 0.5890 - acc: 0.7601 - val_loss: 0.6207 - val_acc: 0.7451\n",
      "Epoch 23/100\n",
      "10540/10540 [==============================] - 43s 4ms/step - loss: 0.6124 - acc: 0.7572 - val_loss: 0.6703 - val_acc: 0.7443\n",
      "Epoch 24/100\n",
      "10540/10540 [==============================] - 44s 4ms/step - loss: 0.6041 - acc: 0.7521 - val_loss: 0.6555 - val_acc: 0.7436\n",
      "Epoch 25/100\n",
      "10540/10540 [==============================] - 43s 4ms/step - loss: 0.5943 - acc: 0.7579 - val_loss: 0.6548 - val_acc: 0.7193\n",
      "Epoch 26/100\n",
      "10540/10540 [==============================] - 43s 4ms/step - loss: 0.5732 - acc: 0.7693 - val_loss: 0.6269 - val_acc: 0.7549\n",
      "Epoch 27/100\n",
      "10540/10540 [==============================] - 43s 4ms/step - loss: 0.5734 - acc: 0.7717 - val_loss: 0.6313 - val_acc: 0.7485\n",
      "Epoch 28/100\n",
      "10540/10540 [==============================] - 44s 4ms/step - loss: 0.5739 - acc: 0.7750 - val_loss: 0.6281 - val_acc: 0.7587\n",
      "Epoch 29/100\n",
      "10540/10540 [==============================] - 43s 4ms/step - loss: 0.5628 - acc: 0.7762 - val_loss: 0.6269 - val_acc: 0.7504\n",
      "Epoch 30/100\n",
      "10540/10540 [==============================] - 43s 4ms/step - loss: 0.5503 - acc: 0.7777 - val_loss: 0.6554 - val_acc: 0.7223\n",
      "Epoch 31/100\n",
      "10540/10540 [==============================] - 43s 4ms/step - loss: 0.5556 - acc: 0.7806 - val_loss: 0.6346 - val_acc: 0.7621\n",
      "Epoch 32/100\n",
      "10540/10540 [==============================] - 43s 4ms/step - loss: 0.5378 - acc: 0.7912 - val_loss: 0.6131 - val_acc: 0.7610\n",
      "Epoch 33/100\n",
      "10540/10540 [==============================] - 43s 4ms/step - loss: 0.5202 - acc: 0.8020 - val_loss: 0.6168 - val_acc: 0.7602\n",
      "Epoch 34/100\n",
      "10540/10540 [==============================] - 43s 4ms/step - loss: 0.5140 - acc: 0.8029 - val_loss: 0.6175 - val_acc: 0.7633\n",
      "Epoch 35/100\n",
      "10540/10540 [==============================] - 43s 4ms/step - loss: 0.5068 - acc: 0.8059 - val_loss: 0.6187 - val_acc: 0.7648\n",
      "Epoch 36/100\n",
      "10540/10540 [==============================] - 43s 4ms/step - loss: 0.7797 - acc: 0.6952 - val_loss: 0.7794 - val_acc: 0.6681\n",
      "Epoch 37/100\n",
      "10540/10540 [==============================] - 43s 4ms/step - loss: 0.7353 - acc: 0.6916 - val_loss: 0.7199 - val_acc: 0.6958\n",
      "Epoch 38/100\n",
      "10540/10540 [==============================] - 43s 4ms/step - loss: 0.6821 - acc: 0.7141 - val_loss: 0.6913 - val_acc: 0.7140\n",
      "Epoch 39/100\n",
      "10540/10540 [==============================] - 43s 4ms/step - loss: 0.6402 - acc: 0.7290 - val_loss: 0.6642 - val_acc: 0.7193\n",
      "Epoch 40/100\n",
      "10540/10540 [==============================] - 43s 4ms/step - loss: 0.6107 - acc: 0.7427 - val_loss: 0.6520 - val_acc: 0.7185\n",
      "Epoch 41/100\n",
      "10540/10540 [==============================] - 43s 4ms/step - loss: 0.5813 - acc: 0.7526 - val_loss: 0.6516 - val_acc: 0.7223\n",
      "Epoch 42/100\n",
      "10540/10540 [==============================] - 43s 4ms/step - loss: 0.5720 - acc: 0.7582 - val_loss: 0.6537 - val_acc: 0.7242\n",
      "Epoch 43/100\n",
      "10540/10540 [==============================] - 43s 4ms/step - loss: 0.5495 - acc: 0.7689 - val_loss: 0.6484 - val_acc: 0.7299\n",
      "Epoch 44/100\n",
      "10540/10540 [==============================] - 43s 4ms/step - loss: 0.5365 - acc: 0.7763 - val_loss: 0.6440 - val_acc: 0.7356\n",
      "Epoch 45/100\n",
      "10540/10540 [==============================] - 43s 4ms/step - loss: 0.5156 - acc: 0.7880 - val_loss: 0.6207 - val_acc: 0.7458\n",
      "Epoch 46/100\n",
      "10540/10540 [==============================] - 43s 4ms/step - loss: 0.4977 - acc: 0.8026 - val_loss: 0.6177 - val_acc: 0.7602\n",
      "Epoch 47/100\n",
      "10540/10540 [==============================] - 43s 4ms/step - loss: 0.5019 - acc: 0.7995 - val_loss: 0.6406 - val_acc: 0.7549\n",
      "Epoch 48/100\n",
      "10540/10540 [==============================] - 43s 4ms/step - loss: 0.4931 - acc: 0.8086 - val_loss: 0.6177 - val_acc: 0.7496\n",
      "Epoch 49/100\n",
      "10540/10540 [==============================] - 44s 4ms/step - loss: 0.5049 - acc: 0.7997 - val_loss: 0.6551 - val_acc: 0.7633\n",
      "Epoch 50/100\n",
      "10540/10540 [==============================] - 43s 4ms/step - loss: 0.4654 - acc: 0.8218 - val_loss: 0.6774 - val_acc: 0.7485\n",
      "Epoch 51/100\n",
      "10540/10540 [==============================] - 43s 4ms/step - loss: 0.4712 - acc: 0.8231 - val_loss: 0.6225 - val_acc: 0.7485\n",
      "Epoch 52/100\n",
      "10540/10540 [==============================] - 43s 4ms/step - loss: 0.4557 - acc: 0.8240 - val_loss: 0.6692 - val_acc: 0.7599\n",
      "Epoch 53/100\n",
      "10540/10540 [==============================] - 43s 4ms/step - loss: 0.4734 - acc: 0.8177 - val_loss: 0.6455 - val_acc: 0.7701\n",
      "Epoch 54/100\n",
      "10540/10540 [==============================] - 43s 4ms/step - loss: 0.4951 - acc: 0.8070 - val_loss: 0.6514 - val_acc: 0.7496\n",
      "Epoch 55/100\n",
      "10540/10540 [==============================] - 43s 4ms/step - loss: 0.4791 - acc: 0.8124 - val_loss: 0.6757 - val_acc: 0.7496\n",
      "Epoch 56/100\n",
      "10540/10540 [==============================] - 43s 4ms/step - loss: 0.4363 - acc: 0.8358 - val_loss: 0.6230 - val_acc: 0.7447\n",
      "Epoch 57/100\n",
      "10540/10540 [==============================] - 43s 4ms/step - loss: 0.4241 - acc: 0.8390 - val_loss: 0.6376 - val_acc: 0.7394\n"
     ]
    },
    {
     "name": "stdout",
     "output_type": "stream",
     "text": [
      "Epoch 58/100\n",
      "10540/10540 [==============================] - 43s 4ms/step - loss: 0.4474 - acc: 0.8283 - val_loss: 0.6093 - val_acc: 0.7614\n",
      "Epoch 59/100\n",
      "10540/10540 [==============================] - 43s 4ms/step - loss: 0.4567 - acc: 0.8213 - val_loss: 0.6394 - val_acc: 0.7496\n",
      "Epoch 60/100\n",
      "10540/10540 [==============================] - 43s 4ms/step - loss: 0.4480 - acc: 0.8290 - val_loss: 0.6422 - val_acc: 0.7587\n",
      "Epoch 61/100\n",
      "10540/10540 [==============================] - 43s 4ms/step - loss: 0.4197 - acc: 0.8397 - val_loss: 0.6479 - val_acc: 0.7614\n",
      "Epoch 62/100\n",
      "10540/10540 [==============================] - 43s 4ms/step - loss: 0.3936 - acc: 0.8494 - val_loss: 0.6543 - val_acc: 0.7637\n",
      "Epoch 63/100\n",
      "10540/10540 [==============================] - 43s 4ms/step - loss: 0.4357 - acc: 0.8382 - val_loss: 0.6763 - val_acc: 0.7492\n",
      "Epoch 64/100\n",
      "10540/10540 [==============================] - 43s 4ms/step - loss: 0.3876 - acc: 0.8545 - val_loss: 0.6642 - val_acc: 0.7656\n",
      "Epoch 65/100\n",
      "10540/10540 [==============================] - 43s 4ms/step - loss: 0.3688 - acc: 0.8620 - val_loss: 0.7093 - val_acc: 0.7743\n",
      "Epoch 66/100\n",
      "10540/10540 [==============================] - 43s 4ms/step - loss: 0.3654 - acc: 0.8635 - val_loss: 0.7078 - val_acc: 0.7667\n",
      "Epoch 67/100\n",
      "10540/10540 [==============================] - 43s 4ms/step - loss: 0.3642 - acc: 0.8644 - val_loss: 0.7161 - val_acc: 0.7671\n",
      "Epoch 68/100\n",
      "10540/10540 [==============================] - 43s 4ms/step - loss: 0.3482 - acc: 0.8733 - val_loss: 0.7410 - val_acc: 0.7420\n",
      "Epoch 69/100\n",
      "10540/10540 [==============================] - 43s 4ms/step - loss: 0.3413 - acc: 0.8736 - val_loss: 0.7127 - val_acc: 0.7527\n",
      "Epoch 70/100\n",
      "10540/10540 [==============================] - 43s 4ms/step - loss: 0.3323 - acc: 0.8799 - val_loss: 0.7384 - val_acc: 0.7561\n",
      "Epoch 71/100\n",
      "10540/10540 [==============================] - 43s 4ms/step - loss: 0.3176 - acc: 0.8840 - val_loss: 0.7561 - val_acc: 0.7671\n",
      "Epoch 72/100\n",
      "10540/10540 [==============================] - 43s 4ms/step - loss: 0.3228 - acc: 0.8821 - val_loss: 0.7228 - val_acc: 0.7409\n",
      "Epoch 73/100\n",
      "10540/10540 [==============================] - 43s 4ms/step - loss: 0.3103 - acc: 0.8879 - val_loss: 0.7983 - val_acc: 0.7633\n",
      "Epoch 74/100\n",
      "10540/10540 [==============================] - 43s 4ms/step - loss: 0.3051 - acc: 0.8892 - val_loss: 0.7789 - val_acc: 0.7675\n",
      "Epoch 75/100\n",
      "10540/10540 [==============================] - 43s 4ms/step - loss: 0.2912 - acc: 0.8923 - val_loss: 0.7719 - val_acc: 0.7557\n",
      "Epoch 76/100\n",
      "10540/10540 [==============================] - 43s 4ms/step - loss: 0.2908 - acc: 0.8935 - val_loss: 0.8340 - val_acc: 0.7629\n",
      "Epoch 77/100\n",
      "10540/10540 [==============================] - 43s 4ms/step - loss: 0.2976 - acc: 0.8895 - val_loss: 0.7478 - val_acc: 0.7451\n",
      "Epoch 78/100\n",
      "10540/10540 [==============================] - 43s 4ms/step - loss: 0.2888 - acc: 0.8968 - val_loss: 0.7858 - val_acc: 0.7519\n",
      "Epoch 79/100\n",
      "10540/10540 [==============================] - 43s 4ms/step - loss: 0.2910 - acc: 0.8931 - val_loss: 0.7794 - val_acc: 0.7409\n",
      "Epoch 80/100\n",
      "10540/10540 [==============================] - 43s 4ms/step - loss: 0.2805 - acc: 0.8981 - val_loss: 0.7759 - val_acc: 0.7496\n",
      "Epoch 81/100\n",
      "10540/10540 [==============================] - 43s 4ms/step - loss: 0.3110 - acc: 0.8870 - val_loss: 0.8195 - val_acc: 0.7398\n",
      "Epoch 82/100\n",
      "10540/10540 [==============================] - 43s 4ms/step - loss: 0.2728 - acc: 0.9026 - val_loss: 0.8306 - val_acc: 0.7310\n",
      "Epoch 83/100\n",
      "10540/10540 [==============================] - 43s 4ms/step - loss: 0.2661 - acc: 0.9035 - val_loss: 0.8615 - val_acc: 0.7595\n",
      "Epoch 84/100\n",
      "10540/10540 [==============================] - 43s 4ms/step - loss: 0.2493 - acc: 0.9118 - val_loss: 0.8583 - val_acc: 0.7481\n",
      "Epoch 85/100\n",
      "10540/10540 [==============================] - 43s 4ms/step - loss: 0.2443 - acc: 0.9139 - val_loss: 0.9466 - val_acc: 0.7633\n",
      "Epoch 86/100\n",
      "10540/10540 [==============================] - 43s 4ms/step - loss: 0.2581 - acc: 0.9066 - val_loss: 0.8705 - val_acc: 0.7386\n",
      "Epoch 87/100\n",
      "10540/10540 [==============================] - 43s 4ms/step - loss: 0.2680 - acc: 0.9053 - val_loss: 0.7671 - val_acc: 0.7511\n",
      "Epoch 88/100\n",
      "10540/10540 [==============================] - 43s 4ms/step - loss: 0.2829 - acc: 0.8992 - val_loss: 0.8308 - val_acc: 0.7546\n",
      "Epoch 89/100\n",
      "10540/10540 [==============================] - 43s 4ms/step - loss: 0.2357 - acc: 0.9175 - val_loss: 0.8319 - val_acc: 0.7637\n",
      "Epoch 90/100\n",
      "10540/10540 [==============================] - 43s 4ms/step - loss: 0.2273 - acc: 0.9185 - val_loss: 0.9341 - val_acc: 0.7485\n",
      "Epoch 91/100\n",
      "10540/10540 [==============================] - 44s 4ms/step - loss: 0.2253 - acc: 0.9192 - val_loss: 0.8923 - val_acc: 0.7538\n",
      "Epoch 92/100\n",
      "10540/10540 [==============================] - 43s 4ms/step - loss: 0.2177 - acc: 0.9213 - val_loss: 0.8457 - val_acc: 0.7576\n",
      "Epoch 93/100\n",
      "10540/10540 [==============================] - 43s 4ms/step - loss: 0.2147 - acc: 0.9213 - val_loss: 0.8891 - val_acc: 0.7420\n",
      "Epoch 94/100\n",
      "10540/10540 [==============================] - 43s 4ms/step - loss: 0.2189 - acc: 0.9211 - val_loss: 0.9373 - val_acc: 0.7546\n",
      "Epoch 95/100\n",
      "10540/10540 [==============================] - 44s 4ms/step - loss: 0.2131 - acc: 0.9229 - val_loss: 0.9928 - val_acc: 0.7492\n",
      "Epoch 96/100\n",
      "10540/10540 [==============================] - 43s 4ms/step - loss: 0.2431 - acc: 0.9108 - val_loss: 0.8973 - val_acc: 0.7458\n",
      "Epoch 97/100\n",
      "10540/10540 [==============================] - 43s 4ms/step - loss: 0.2100 - acc: 0.9225 - val_loss: 1.0182 - val_acc: 0.7504\n",
      "Epoch 98/100\n",
      "10540/10540 [==============================] - 43s 4ms/step - loss: 0.2375 - acc: 0.9153 - val_loss: 0.9322 - val_acc: 0.7561\n",
      "Epoch 99/100\n",
      "10540/10540 [==============================] - 44s 4ms/step - loss: 0.2173 - acc: 0.9209 - val_loss: 0.9365 - val_acc: 0.7504\n",
      "Epoch 100/100\n",
      "10540/10540 [==============================] - 43s 4ms/step - loss: 0.1937 - acc: 0.9308 - val_loss: 1.0212 - val_acc: 0.7583\n",
      "Model runs for: 4291.374112844467\n"
     ]
    },
    {
     "data": {
      "image/png": "[encoded data removed]",
      "text/plain": [
       "<Figure size 432x288 with 1 Axes>"
      ]
     },
     "metadata": {},
     "output_type": "display_data"
    },
    {
     "data": {
      "image/png": "[encoded data removed]",
      "text/plain": [
       "<Figure size 432x288 with 1 Axes>"
      ]
     },
     "metadata": {},
     "output_type": "display_data"
    },
    {
     "name": "stdout",
     "output_type": "stream",
     "text": [
      "1464/1464 [==============================] - 2s 1ms/step\n",
      "Test accuracy =  0.75273224011145\n",
      "Test f1 score =  0.7471253818360933\n"
     ]
    },
    {
     "data": {
      "text/html": [
       "<div>\n",
       "<style scoped>\n",
       "    .dataframe tbody tr th:only-of-type {\n",
       "        vertical-align: middle;\n",
       "    }\n",
       "\n",
       "    .dataframe tbody tr th {\n",
       "        vertical-align: top;\n",
       "    }\n",
       "\n",
       "    .dataframe thead th {\n",
       "        text-align: right;\n",
       "    }\n",
       "</style>\n",
       "<table border=\"1\" class=\"dataframe\">\n",
       "  <thead>\n",
       "    <tr style=\"text-align: right;\">\n",
       "      <th></th>\n",
       "      <th>predicted_positive</th>\n",
       "      <th>predicted_neutral</th>\n",
       "      <th>predicted_negative</th>\n",
       "    </tr>\n",
       "  </thead>\n",
       "  <tbody>\n",
       "    <tr>\n",
       "      <th>positive</th>\n",
       "      <td>140</td>\n",
       "      <td>34</td>\n",
       "      <td>50</td>\n",
       "    </tr>\n",
       "    <tr>\n",
       "      <th>neutral</th>\n",
       "      <td>30</td>\n",
       "      <td>163</td>\n",
       "      <td>132</td>\n",
       "    </tr>\n",
       "    <tr>\n",
       "      <th>negative</th>\n",
       "      <td>24</td>\n",
       "      <td>92</td>\n",
       "      <td>799</td>\n",
       "    </tr>\n",
       "  </tbody>\n",
       "</table>\n",
       "</div>"
      ],
      "text/plain": [
       "          predicted_positive  predicted_neutral  predicted_negative\n",
       "positive                 140                 34                  50\n",
       "neutral                   30                163                 132\n",
       "negative                  24                 92                 799"
      ]
     },
     "metadata": {},
     "output_type": "display_data"
    }
   ],
   "source": [
    "h1, model1=run(model1, **params)"
   ]
  },
  {
   "cell_type": "code",
   "execution_count": 44,
   "metadata": {},
   "outputs": [
    {
     "data": {
      "image/png": "[encoded data removed]",
      "text/plain": [
       "<Figure size 432x288 with 1 Axes>"
      ]
     },
     "metadata": {},
     "output_type": "display_data"
    },
    {
     "data": {
      "image/png": "[encoded data removed]",
      "text/plain": [
       "<Figure size 432x288 with 1 Axes>"
      ]
     },
     "metadata": {},
     "output_type": "display_data"
    },
    {
     "name": "stdout",
     "output_type": "stream",
     "text": [
      "1464/1464 [==============================] - 2s 1ms/step\n",
      "Test accuracy =  0.75273224011145\n",
      "Test f1 score =  0.7471253818360933\n"
     ]
    },
    {
     "data": {
      "text/html": [
       "<div>\n",
       "<style scoped>\n",
       "    .dataframe tbody tr th:only-of-type {\n",
       "        vertical-align: middle;\n",
       "    }\n",
       "\n",
       "    .dataframe tbody tr th {\n",
       "        vertical-align: top;\n",
       "    }\n",
       "\n",
       "    .dataframe thead th {\n",
       "        text-align: right;\n",
       "    }\n",
       "</style>\n",
       "<table border=\"1\" class=\"dataframe\">\n",
       "  <thead>\n",
       "    <tr style=\"text-align: right;\">\n",
       "      <th></th>\n",
       "      <th>predicted_positive</th>\n",
       "      <th>predicted_neutral</th>\n",
       "      <th>predicted_negative</th>\n",
       "    </tr>\n",
       "  </thead>\n",
       "  <tbody>\n",
       "    <tr>\n",
       "      <th>positive</th>\n",
       "      <td>140</td>\n",
       "      <td>34</td>\n",
       "      <td>50</td>\n",
       "    </tr>\n",
       "    <tr>\n",
       "      <th>neutral</th>\n",
       "      <td>30</td>\n",
       "      <td>163</td>\n",
       "      <td>132</td>\n",
       "    </tr>\n",
       "    <tr>\n",
       "      <th>negative</th>\n",
       "      <td>24</td>\n",
       "      <td>92</td>\n",
       "      <td>799</td>\n",
       "    </tr>\n",
       "  </tbody>\n",
       "</table>\n",
       "</div>"
      ],
      "text/plain": [
       "          predicted_positive  predicted_neutral  predicted_negative\n",
       "positive                 140                 34                  50\n",
       "neutral                   30                163                 132\n",
       "negative                  24                 92                 799"
      ]
     },
     "metadata": {},
     "output_type": "display_data"
    }
   ],
   "source": [
    "evaluate(h1, model1)"
   ]
  },
  {
   "cell_type": "markdown",
   "metadata": {},
   "source": [
    "I run the model for 100 epochs and the final test result gives 0.75 accuracy and 0.74 f1 score, similar to the results I got in previous classifiers.\n",
    "\n",
    "Also the history figures above show that the model has exhausted after about 50 epochs and got overfit on the training set. It couldn't further converge and fit well on test set."
   ]
  },
  {
   "cell_type": "markdown",
   "metadata": {},
   "source": [
    "### 4.3.2 Train model 2 - add more dropout layers"
   ]
  },
  {
   "cell_type": "markdown",
   "metadata": {},
   "source": [
    "So I tried to add a few more dropout layers to prevent overfitting and rerun the model for 100 epochs:"
   ]
  },
  {
   "cell_type": "code",
   "execution_count": 27,
   "metadata": {},
   "outputs": [],
   "source": [
    "def model_rnn_2(input_shape, word_to_vec_map, word_to_index):\n",
    "    sentence_indices = Input(shape=input_shape, dtype='int32')\n",
    "    \n",
    "    embedding_layer = pretrained_embedding_layer(word_to_vec_map, word_to_index)\n",
    "    embeddings = embedding_layer(sentence_indices)\n",
    "    \n",
    "    X=LSTM(128, return_sequences=True)(embeddings)\n",
    "    X=Dropout(0.5)(X)\n",
    "\n",
    "    X=LSTM(128, return_sequences=False)(X)\n",
    "    X=Dropout(0.5)(X)\n",
    "    \n",
    "    X=Dropout(0.5)(X)\n",
    "    X=BatchNormalization()(X)\n",
    "    X=Dropout(0.5)(X)\n",
    "    \n",
    "    X=Dense(512)(X)\n",
    "    X=Activation('relu')(X)\n",
    "    \n",
    "    X=Dropout(0.5)(X)\n",
    "    X=BatchNormalization()(X)\n",
    "    X=Dropout(0.5)(X)\n",
    "\n",
    "    X=Dense(3)(X)\n",
    "    X=Activation('softmax')(X)\n",
    "    \n",
    "    model = Model(inputs=sentence_indices, outputs=X)    \n",
    "    return model"
   ]
  },
  {
   "cell_type": "code",
   "execution_count": 28,
   "metadata": {
    "scrolled": false
   },
   "outputs": [
    {
     "name": "stdout",
     "output_type": "stream",
     "text": [
      "_________________________________________________________________\n",
      "Layer (type)                 Output Shape              Param #   \n",
      "=================================================================\n",
      "input_2 (InputLayer)         (None, 89)                0         \n",
      "_________________________________________________________________\n",
      "embedding_2 (Embedding)      (None, 89, 50)            20000050  \n",
      "_________________________________________________________________\n",
      "lstm_3 (LSTM)                (None, 89, 128)           91648     \n",
      "_________________________________________________________________\n",
      "dropout_3 (Dropout)          (None, 89, 128)           0         \n",
      "_________________________________________________________________\n",
      "lstm_4 (LSTM)                (None, 128)               131584    \n",
      "_________________________________________________________________\n",
      "dropout_4 (Dropout)          (None, 128)               0         \n",
      "_________________________________________________________________\n",
      "dropout_5 (Dropout)          (None, 128)               0         \n",
      "_________________________________________________________________\n",
      "batch_normalization_1 (Batch (None, 128)               512       \n",
      "_________________________________________________________________\n",
      "dropout_6 (Dropout)          (None, 128)               0         \n",
      "_________________________________________________________________\n",
      "dense_2 (Dense)              (None, 512)               66048     \n",
      "_________________________________________________________________\n",
      "activation_2 (Activation)    (None, 512)               0         \n",
      "_________________________________________________________________\n",
      "dropout_7 (Dropout)          (None, 512)               0         \n",
      "_________________________________________________________________\n",
      "batch_normalization_2 (Batch (None, 512)               2048      \n",
      "_________________________________________________________________\n",
      "dropout_8 (Dropout)          (None, 512)               0         \n",
      "_________________________________________________________________\n",
      "dense_3 (Dense)              (None, 3)                 1539      \n",
      "_________________________________________________________________\n",
      "activation_3 (Activation)    (None, 3)                 0         \n",
      "=================================================================\n",
      "Total params: 20,293,429\n",
      "Trainable params: 292,099\n",
      "Non-trainable params: 20,001,330\n",
      "_________________________________________________________________\n"
     ]
    }
   ],
   "source": [
    "model2=model_rnn_2((maxLen,), word_to_vec_map, word_to_index)\n",
    "model2.summary()"
   ]
  },
  {
   "cell_type": "code",
   "execution_count": 31,
   "metadata": {},
   "outputs": [
    {
     "name": "stdout",
     "output_type": "stream",
     "text": [
      "Train on 10540 samples, validate on 2636 samples\n",
      "Epoch 1/100\n",
      "10540/10540 [==============================] - 46s 4ms/step - loss: 1.5207 - acc: 0.4110 - val_loss: 1.0147 - val_acc: 0.6214\n",
      "Epoch 2/100\n",
      "10540/10540 [==============================] - 43s 4ms/step - loss: 1.1766 - acc: 0.5213 - val_loss: 1.2707 - val_acc: 0.3596\n",
      "Epoch 3/100\n",
      "10540/10540 [==============================] - 44s 4ms/step - loss: 1.0000 - acc: 0.5933 - val_loss: 0.9995 - val_acc: 0.6351\n",
      "Epoch 4/100\n",
      "10540/10540 [==============================] - 43s 4ms/step - loss: 0.9802 - acc: 0.5958 - val_loss: 0.9508 - val_acc: 0.6214\n",
      "Epoch 5/100\n",
      "10540/10540 [==============================] - 44s 4ms/step - loss: 0.9614 - acc: 0.6064 - val_loss: 0.9420 - val_acc: 0.6214\n",
      "Epoch 6/100\n",
      "10540/10540 [==============================] - 44s 4ms/step - loss: 0.9476 - acc: 0.6150 - val_loss: 0.9557 - val_acc: 0.6214\n",
      "Epoch 7/100\n",
      "10540/10540 [==============================] - 44s 4ms/step - loss: 0.9443 - acc: 0.6197 - val_loss: 0.9443 - val_acc: 0.6214\n",
      "Epoch 8/100\n",
      "10540/10540 [==============================] - 44s 4ms/step - loss: 0.9429 - acc: 0.6209 - val_loss: 0.9250 - val_acc: 0.6214\n",
      "Epoch 9/100\n",
      "10540/10540 [==============================] - 43s 4ms/step - loss: 0.9398 - acc: 0.6248 - val_loss: 0.9246 - val_acc: 0.6214\n",
      "Epoch 10/100\n",
      "10540/10540 [==============================] - 43s 4ms/step - loss: 0.9376 - acc: 0.6241 - val_loss: 0.9249 - val_acc: 0.6214\n",
      "Epoch 11/100\n",
      "10540/10540 [==============================] - 44s 4ms/step - loss: 0.9407 - acc: 0.6261 - val_loss: 0.9260 - val_acc: 0.6214\n",
      "Epoch 12/100\n",
      "10540/10540 [==============================] - 44s 4ms/step - loss: 0.9384 - acc: 0.6266 - val_loss: 0.9230 - val_acc: 0.6214\n",
      "Epoch 13/100\n",
      "10540/10540 [==============================] - 44s 4ms/step - loss: 0.8942 - acc: 0.6302 - val_loss: 1.1039 - val_acc: 0.3410\n",
      "Epoch 14/100\n",
      "10540/10540 [==============================] - 43s 4ms/step - loss: 0.9064 - acc: 0.6267 - val_loss: 0.9319 - val_acc: 0.6214\n",
      "Epoch 15/100\n",
      "10540/10540 [==============================] - 43s 4ms/step - loss: 0.8583 - acc: 0.6314 - val_loss: 0.9320 - val_acc: 0.6256\n",
      "Epoch 16/100\n",
      "10540/10540 [==============================] - 44s 4ms/step - loss: 0.7846 - acc: 0.6591 - val_loss: 0.8970 - val_acc: 0.6225\n",
      "Epoch 17/100\n",
      "10540/10540 [==============================] - 44s 4ms/step - loss: 0.7674 - acc: 0.6734 - val_loss: 0.8071 - val_acc: 0.6813\n",
      "Epoch 18/100\n",
      "10540/10540 [==============================] - 44s 4ms/step - loss: 0.7216 - acc: 0.6947 - val_loss: 0.7310 - val_acc: 0.6912\n",
      "Epoch 19/100\n",
      "10540/10540 [==============================] - 43s 4ms/step - loss: 0.6946 - acc: 0.7004 - val_loss: 0.7506 - val_acc: 0.7090\n",
      "Epoch 20/100\n",
      "10540/10540 [==============================] - 44s 4ms/step - loss: 0.6749 - acc: 0.7070 - val_loss: 0.8990 - val_acc: 0.4719\n",
      "Epoch 21/100\n",
      "10540/10540 [==============================] - 44s 4ms/step - loss: 0.6502 - acc: 0.7218 - val_loss: 0.8494 - val_acc: 0.6669\n",
      "Epoch 22/100\n",
      "10540/10540 [==============================] - 44s 4ms/step - loss: 0.6391 - acc: 0.7264 - val_loss: 0.6525 - val_acc: 0.7200\n",
      "Epoch 23/100\n",
      "10540/10540 [==============================] - 44s 4ms/step - loss: 0.6230 - acc: 0.7320 - val_loss: 0.7376 - val_acc: 0.6829\n",
      "Epoch 24/100\n",
      "10540/10540 [==============================] - 45s 4ms/step - loss: 0.6089 - acc: 0.7378 - val_loss: 0.7385 - val_acc: 0.7045\n",
      "Epoch 25/100\n",
      "10540/10540 [==============================] - 44s 4ms/step - loss: 0.5979 - acc: 0.7475 - val_loss: 0.6760 - val_acc: 0.7132\n",
      "Epoch 26/100\n",
      "10540/10540 [==============================] - 43s 4ms/step - loss: 0.5814 - acc: 0.7529 - val_loss: 0.6523 - val_acc: 0.7394\n",
      "Epoch 27/100\n",
      "10540/10540 [==============================] - 44s 4ms/step - loss: 0.5776 - acc: 0.7501 - val_loss: 0.7875 - val_acc: 0.5816\n",
      "Epoch 28/100\n",
      "10540/10540 [==============================] - 45s 4ms/step - loss: 0.5653 - acc: 0.7566 - val_loss: 0.6408 - val_acc: 0.7200\n",
      "Epoch 29/100\n",
      "10540/10540 [==============================] - 44s 4ms/step - loss: 0.5476 - acc: 0.7670 - val_loss: 0.6553 - val_acc: 0.7371\n",
      "Epoch 30/100\n",
      "10540/10540 [==============================] - 44s 4ms/step - loss: 0.5369 - acc: 0.7733 - val_loss: 0.7356 - val_acc: 0.6624\n",
      "Epoch 31/100\n",
      "10540/10540 [==============================] - 44s 4ms/step - loss: 0.5271 - acc: 0.7802 - val_loss: 0.6655 - val_acc: 0.7007\n",
      "Epoch 32/100\n",
      "10540/10540 [==============================] - 45s 4ms/step - loss: 0.5105 - acc: 0.7848 - val_loss: 0.7373 - val_acc: 0.6267\n",
      "Epoch 33/100\n",
      "10540/10540 [==============================] - 44s 4ms/step - loss: 0.4890 - acc: 0.7992 - val_loss: 0.7029 - val_acc: 0.7360\n",
      "Epoch 34/100\n",
      "10540/10540 [==============================] - 44s 4ms/step - loss: 0.4800 - acc: 0.8013 - val_loss: 0.7059 - val_acc: 0.6999\n",
      "Epoch 35/100\n",
      "10540/10540 [==============================] - 44s 4ms/step - loss: 0.4676 - acc: 0.8051 - val_loss: 0.6805 - val_acc: 0.7337\n",
      "Epoch 36/100\n",
      "10540/10540 [==============================] - 44s 4ms/step - loss: 0.4492 - acc: 0.8202 - val_loss: 0.6997 - val_acc: 0.7413\n",
      "Epoch 37/100\n",
      "10540/10540 [==============================] - 44s 4ms/step - loss: 0.4370 - acc: 0.8236 - val_loss: 0.7186 - val_acc: 0.6995\n",
      "Epoch 38/100\n",
      "10540/10540 [==============================] - 44s 4ms/step - loss: 0.4277 - acc: 0.8279 - val_loss: 0.7157 - val_acc: 0.7310\n",
      "Epoch 39/100\n",
      "10540/10540 [==============================] - 44s 4ms/step - loss: 0.4172 - acc: 0.8368 - val_loss: 0.7326 - val_acc: 0.6608\n",
      "Epoch 40/100\n",
      "10540/10540 [==============================] - 45s 4ms/step - loss: 0.3926 - acc: 0.8462 - val_loss: 0.7883 - val_acc: 0.7451\n",
      "Epoch 41/100\n",
      "10540/10540 [==============================] - 44s 4ms/step - loss: 0.4013 - acc: 0.8451 - val_loss: 0.8230 - val_acc: 0.6525\n",
      "Epoch 42/100\n",
      "10540/10540 [==============================] - 44s 4ms/step - loss: 0.3692 - acc: 0.8575 - val_loss: 0.9143 - val_acc: 0.7420\n",
      "Epoch 43/100\n",
      "10540/10540 [==============================] - 44s 4ms/step - loss: 0.3608 - acc: 0.8584 - val_loss: 0.8225 - val_acc: 0.7143\n",
      "Epoch 44/100\n",
      "10540/10540 [==============================] - 45s 4ms/step - loss: 0.3398 - acc: 0.8741 - val_loss: 0.8122 - val_acc: 0.7276\n",
      "Epoch 45/100\n",
      "10540/10540 [==============================] - 44s 4ms/step - loss: 0.3319 - acc: 0.8785 - val_loss: 0.7583 - val_acc: 0.7083\n",
      "Epoch 46/100\n",
      "10540/10540 [==============================] - 44s 4ms/step - loss: 0.3219 - acc: 0.8817 - val_loss: 0.7842 - val_acc: 0.7314\n",
      "Epoch 47/100\n",
      "10540/10540 [==============================] - 44s 4ms/step - loss: 0.3252 - acc: 0.8770 - val_loss: 0.7880 - val_acc: 0.7162\n",
      "Epoch 48/100\n",
      "10540/10540 [==============================] - 45s 4ms/step - loss: 0.2862 - acc: 0.8973 - val_loss: 0.8212 - val_acc: 0.7178\n",
      "Epoch 49/100\n",
      "10540/10540 [==============================] - 44s 4ms/step - loss: 0.2853 - acc: 0.8962 - val_loss: 0.8414 - val_acc: 0.6855\n",
      "Epoch 50/100\n",
      "10540/10540 [==============================] - 44s 4ms/step - loss: 0.2585 - acc: 0.9074 - val_loss: 0.9639 - val_acc: 0.7223\n",
      "Epoch 51/100\n",
      "10540/10540 [==============================] - 44s 4ms/step - loss: 0.2574 - acc: 0.9094 - val_loss: 0.8753 - val_acc: 0.6863\n",
      "Epoch 52/100\n",
      "10540/10540 [==============================] - 44s 4ms/step - loss: 0.2555 - acc: 0.9117 - val_loss: 0.8702 - val_acc: 0.6995\n",
      "Epoch 53/100\n",
      "10540/10540 [==============================] - 45s 4ms/step - loss: 0.2590 - acc: 0.9077 - val_loss: 0.9681 - val_acc: 0.7363\n",
      "Epoch 54/100\n",
      "10540/10540 [==============================] - 44s 4ms/step - loss: 0.2385 - acc: 0.9159 - val_loss: 1.0105 - val_acc: 0.7219\n",
      "Epoch 55/100\n",
      "10540/10540 [==============================] - 44s 4ms/step - loss: 0.2374 - acc: 0.9204 - val_loss: 1.0534 - val_acc: 0.7174\n",
      "Epoch 56/100\n",
      "10540/10540 [==============================] - 44s 4ms/step - loss: 0.2245 - acc: 0.9269 - val_loss: 0.9702 - val_acc: 0.7090\n",
      "Epoch 57/100\n",
      "10540/10540 [==============================] - 45s 4ms/step - loss: 0.2223 - acc: 0.9262 - val_loss: 1.4163 - val_acc: 0.7341\n",
      "Epoch 58/100\n",
      "10540/10540 [==============================] - 44s 4ms/step - loss: 0.2136 - acc: 0.9301 - val_loss: 0.9826 - val_acc: 0.7382\n",
      "Epoch 59/100\n"
     ]
    },
    {
     "name": "stdout",
     "output_type": "stream",
     "text": [
      "10540/10540 [==============================] - 44s 4ms/step - loss: 0.2120 - acc: 0.9289 - val_loss: 1.1722 - val_acc: 0.7314\n",
      "Epoch 60/100\n",
      "10540/10540 [==============================] - 44s 4ms/step - loss: 0.2065 - acc: 0.9338 - val_loss: 1.3097 - val_acc: 0.7234\n",
      "Epoch 61/100\n",
      "10540/10540 [==============================] - 45s 4ms/step - loss: 0.2016 - acc: 0.9361 - val_loss: 1.4200 - val_acc: 0.7341\n",
      "Epoch 62/100\n",
      "10540/10540 [==============================] - 44s 4ms/step - loss: 0.1915 - acc: 0.9398 - val_loss: 1.1224 - val_acc: 0.7253\n",
      "Epoch 63/100\n",
      "10540/10540 [==============================] - 44s 4ms/step - loss: 0.1747 - acc: 0.9454 - val_loss: 1.2771 - val_acc: 0.7215\n",
      "Epoch 64/100\n",
      "10540/10540 [==============================] - 44s 4ms/step - loss: 0.1820 - acc: 0.9436 - val_loss: 1.7291 - val_acc: 0.7386\n",
      "Epoch 65/100\n",
      "10540/10540 [==============================] - 44s 4ms/step - loss: 0.2115 - acc: 0.9312 - val_loss: 0.9267 - val_acc: 0.7215\n",
      "Epoch 66/100\n",
      "10540/10540 [==============================] - 43s 4ms/step - loss: 0.2399 - acc: 0.9196 - val_loss: 0.9217 - val_acc: 0.7132\n",
      "Epoch 67/100\n",
      "10540/10540 [==============================] - 43s 4ms/step - loss: 0.1852 - acc: 0.9432 - val_loss: 1.0897 - val_acc: 0.7284\n",
      "Epoch 68/100\n",
      "10540/10540 [==============================] - 43s 4ms/step - loss: 0.1720 - acc: 0.9451 - val_loss: 1.0091 - val_acc: 0.7075\n",
      "Epoch 69/100\n",
      "10540/10540 [==============================] - 43s 4ms/step - loss: 0.1803 - acc: 0.9443 - val_loss: 1.1931 - val_acc: 0.7299\n",
      "Epoch 70/100\n",
      "10540/10540 [==============================] - 43s 4ms/step - loss: 0.1838 - acc: 0.9414 - val_loss: 1.1250 - val_acc: 0.5975\n",
      "Epoch 71/100\n",
      "10540/10540 [==============================] - 43s 4ms/step - loss: 0.1684 - acc: 0.9514 - val_loss: 1.1367 - val_acc: 0.6498\n",
      "Epoch 72/100\n",
      "10540/10540 [==============================] - 43s 4ms/step - loss: 0.1667 - acc: 0.9479 - val_loss: 1.4533 - val_acc: 0.7382\n",
      "Epoch 73/100\n",
      "10540/10540 [==============================] - 44s 4ms/step - loss: 0.1415 - acc: 0.9568 - val_loss: 1.2270 - val_acc: 0.7102\n",
      "Epoch 74/100\n",
      "10540/10540 [==============================] - 43s 4ms/step - loss: 0.1536 - acc: 0.9533 - val_loss: 1.0744 - val_acc: 0.6992\n",
      "Epoch 75/100\n",
      "10540/10540 [==============================] - 43s 4ms/step - loss: 0.1642 - acc: 0.9517 - val_loss: 1.1686 - val_acc: 0.7318\n",
      "Epoch 76/100\n",
      "10540/10540 [==============================] - 43s 4ms/step - loss: 0.1723 - acc: 0.9483 - val_loss: 1.1744 - val_acc: 0.7212\n",
      "Epoch 77/100\n",
      "10540/10540 [==============================] - 44s 4ms/step - loss: 0.1525 - acc: 0.9556 - val_loss: 1.0404 - val_acc: 0.6821\n",
      "Epoch 78/100\n",
      "10540/10540 [==============================] - 43s 4ms/step - loss: 0.1342 - acc: 0.9616 - val_loss: 1.1522 - val_acc: 0.6775\n",
      "Epoch 79/100\n",
      "10540/10540 [==============================] - 43s 4ms/step - loss: 0.1359 - acc: 0.9607 - val_loss: 1.0618 - val_acc: 0.7094\n",
      "Epoch 80/100\n",
      "10540/10540 [==============================] - 43s 4ms/step - loss: 0.1558 - acc: 0.9547 - val_loss: 1.5773 - val_acc: 0.7242\n",
      "Epoch 81/100\n",
      "10540/10540 [==============================] - 43s 4ms/step - loss: 0.1375 - acc: 0.9612 - val_loss: 1.4666 - val_acc: 0.7329\n",
      "Epoch 82/100\n",
      "10540/10540 [==============================] - 43s 4ms/step - loss: 0.1405 - acc: 0.9601 - val_loss: 1.1417 - val_acc: 0.7231\n",
      "Epoch 83/100\n",
      "10540/10540 [==============================] - 43s 4ms/step - loss: 0.1308 - acc: 0.9646 - val_loss: 0.9724 - val_acc: 0.7261\n",
      "Epoch 84/100\n",
      "10540/10540 [==============================] - 43s 4ms/step - loss: 0.1282 - acc: 0.9640 - val_loss: 1.1653 - val_acc: 0.7079\n",
      "Epoch 85/100\n",
      "10540/10540 [==============================] - 43s 4ms/step - loss: 0.1271 - acc: 0.9648 - val_loss: 1.3447 - val_acc: 0.7166\n",
      "Epoch 86/100\n",
      "10540/10540 [==============================] - 43s 4ms/step - loss: 0.1349 - acc: 0.9622 - val_loss: 1.1145 - val_acc: 0.7200\n",
      "Epoch 87/100\n",
      "10540/10540 [==============================] - 43s 4ms/step - loss: 0.1508 - acc: 0.9557 - val_loss: 1.0491 - val_acc: 0.6426\n",
      "Epoch 88/100\n",
      "10540/10540 [==============================] - 43s 4ms/step - loss: 0.1520 - acc: 0.9557 - val_loss: 1.7805 - val_acc: 0.7436\n",
      "Epoch 89/100\n",
      "10540/10540 [==============================] - 43s 4ms/step - loss: 0.1503 - acc: 0.9580 - val_loss: 1.1238 - val_acc: 0.7052\n",
      "Epoch 90/100\n",
      "10540/10540 [==============================] - 44s 4ms/step - loss: 0.1250 - acc: 0.9663 - val_loss: 1.2361 - val_acc: 0.6749\n",
      "Epoch 91/100\n",
      "10540/10540 [==============================] - 43s 4ms/step - loss: 0.1350 - acc: 0.9640 - val_loss: 1.3238 - val_acc: 0.7318\n",
      "Epoch 92/100\n",
      "10540/10540 [==============================] - 43s 4ms/step - loss: 0.2607 - acc: 0.9224 - val_loss: 0.8885 - val_acc: 0.7003\n",
      "Epoch 93/100\n",
      "10540/10540 [==============================] - 43s 4ms/step - loss: 0.2080 - acc: 0.9379 - val_loss: 1.0890 - val_acc: 0.7219\n",
      "Epoch 94/100\n",
      "10540/10540 [==============================] - 43s 4ms/step - loss: 0.1763 - acc: 0.9515 - val_loss: 1.0396 - val_acc: 0.6734\n",
      "Epoch 95/100\n",
      "10540/10540 [==============================] - 43s 4ms/step - loss: 0.1344 - acc: 0.9639 - val_loss: 1.0908 - val_acc: 0.6529\n",
      "Epoch 96/100\n",
      "10540/10540 [==============================] - 43s 4ms/step - loss: 0.1362 - acc: 0.9629 - val_loss: 1.3791 - val_acc: 0.4715\n",
      "Epoch 97/100\n",
      "10540/10540 [==============================] - 43s 4ms/step - loss: 0.1278 - acc: 0.9666 - val_loss: 1.6230 - val_acc: 0.7314\n",
      "Epoch 98/100\n",
      "10540/10540 [==============================] - 43s 4ms/step - loss: 0.1425 - acc: 0.9609 - val_loss: 1.2588 - val_acc: 0.6813\n",
      "Epoch 99/100\n",
      "10540/10540 [==============================] - 43s 4ms/step - loss: 0.1441 - acc: 0.9597 - val_loss: 1.0402 - val_acc: 0.7337\n",
      "Epoch 100/100\n",
      "10540/10540 [==============================] - 43s 4ms/step - loss: 0.1194 - acc: 0.9701 - val_loss: 1.4321 - val_acc: 0.7413\n",
      "Model runs for: 4363.330633878708\n"
     ]
    }
   ],
   "source": [
    "h2, model2=run(model2, **params)"
   ]
  },
  {
   "cell_type": "code",
   "execution_count": 45,
   "metadata": {},
   "outputs": [
    {
     "data": {
      "image/png": "[encoded data removed]",
      "text/plain": [
       "<Figure size 432x288 with 1 Axes>"
      ]
     },
     "metadata": {},
     "output_type": "display_data"
    },
    {
     "data": {
      "image/png": "[encoded data removed]",
      "text/plain": [
       "<Figure size 432x288 with 1 Axes>"
      ]
     },
     "metadata": {},
     "output_type": "display_data"
    },
    {
     "name": "stdout",
     "output_type": "stream",
     "text": [
      "1464/1464 [==============================] - 2s 1ms/step\n",
      "Test accuracy =  0.7349726775956285\n",
      "Test f1 score =  0.7370564742273208\n"
     ]
    },
    {
     "data": {
      "text/html": [
       "<div>\n",
       "<style scoped>\n",
       "    .dataframe tbody tr th:only-of-type {\n",
       "        vertical-align: middle;\n",
       "    }\n",
       "\n",
       "    .dataframe tbody tr th {\n",
       "        vertical-align: top;\n",
       "    }\n",
       "\n",
       "    .dataframe thead th {\n",
       "        text-align: right;\n",
       "    }\n",
       "</style>\n",
       "<table border=\"1\" class=\"dataframe\">\n",
       "  <thead>\n",
       "    <tr style=\"text-align: right;\">\n",
       "      <th></th>\n",
       "      <th>predicted_positive</th>\n",
       "      <th>predicted_neutral</th>\n",
       "      <th>predicted_negative</th>\n",
       "    </tr>\n",
       "  </thead>\n",
       "  <tbody>\n",
       "    <tr>\n",
       "      <th>positive</th>\n",
       "      <td>115</td>\n",
       "      <td>63</td>\n",
       "      <td>46</td>\n",
       "    </tr>\n",
       "    <tr>\n",
       "      <th>neutral</th>\n",
       "      <td>18</td>\n",
       "      <td>203</td>\n",
       "      <td>104</td>\n",
       "    </tr>\n",
       "    <tr>\n",
       "      <th>negative</th>\n",
       "      <td>18</td>\n",
       "      <td>139</td>\n",
       "      <td>758</td>\n",
       "    </tr>\n",
       "  </tbody>\n",
       "</table>\n",
       "</div>"
      ],
      "text/plain": [
       "          predicted_positive  predicted_neutral  predicted_negative\n",
       "positive                 115                 63                  46\n",
       "neutral                   18                203                 104\n",
       "negative                  18                139                 758"
      ]
     },
     "metadata": {},
     "output_type": "display_data"
    }
   ],
   "source": [
    "evaluate(h2, model2)"
   ]
  },
  {
   "cell_type": "markdown",
   "metadata": {},
   "source": [
    "However, it didn't improve the performance much. Also as the history shows, it starts to overfit since about 30 epochs. It's meaningless for me to run even further."
   ]
  },
  {
   "cell_type": "markdown",
   "metadata": {},
   "source": [
    "### 4.3.3 Train model 3 - enable embedding layer training"
   ]
  },
  {
   "cell_type": "markdown",
   "metadata": {},
   "source": [
    "To better train the model I modified the model2 to enable it to re-train the embedding layer. Considering it will add a large amount of parameters to train, I run for only 30 epochs first:"
   ]
  },
  {
   "cell_type": "code",
   "execution_count": 33,
   "metadata": {},
   "outputs": [],
   "source": [
    "def model_rnn_3(input_shape, word_to_vec_map, word_to_index):\n",
    "    sentence_indices = Input(shape=input_shape, dtype='int32')\n",
    "    \n",
    "    embedding_layer = pretrained_embedding_layer(word_to_vec_map, word_to_index, trainable=True)\n",
    "    embeddings = embedding_layer(sentence_indices)\n",
    "    \n",
    "    X=LSTM(128, return_sequences=True)(embeddings)\n",
    "    X=Dropout(0.5)(X)\n",
    "\n",
    "    X=LSTM(128, return_sequences=False)(X)\n",
    "    X=Dropout(0.5)(X)\n",
    "    \n",
    "    X=Dropout(0.5)(X)\n",
    "    X=BatchNormalization()(X)\n",
    "    X=Dropout(0.5)(X)\n",
    "    \n",
    "    X=Dense(512)(X)\n",
    "    X=Activation('relu')(X)\n",
    "    \n",
    "    X=Dropout(0.5)(X)\n",
    "    X=BatchNormalization()(X)\n",
    "    X=Dropout(0.5)(X)\n",
    "\n",
    "    X=Dense(3)(X)\n",
    "    X=Activation('softmax')(X)\n",
    "    \n",
    "    model = Model(inputs=sentence_indices, outputs=X)    \n",
    "    return model"
   ]
  },
  {
   "cell_type": "code",
   "execution_count": 34,
   "metadata": {},
   "outputs": [
    {
     "name": "stdout",
     "output_type": "stream",
     "text": [
      "_________________________________________________________________\n",
      "Layer (type)                 Output Shape              Param #   \n",
      "=================================================================\n",
      "input_3 (InputLayer)         (None, 89)                0         \n",
      "_________________________________________________________________\n",
      "embedding_3 (Embedding)      (None, 89, 50)            20000050  \n",
      "_________________________________________________________________\n",
      "lstm_5 (LSTM)                (None, 89, 128)           91648     \n",
      "_________________________________________________________________\n",
      "dropout_9 (Dropout)          (None, 89, 128)           0         \n",
      "_________________________________________________________________\n",
      "lstm_6 (LSTM)                (None, 128)               131584    \n",
      "_________________________________________________________________\n",
      "dropout_10 (Dropout)         (None, 128)               0         \n",
      "_________________________________________________________________\n",
      "dropout_11 (Dropout)         (None, 128)               0         \n",
      "_________________________________________________________________\n",
      "batch_normalization_3 (Batch (None, 128)               512       \n",
      "_________________________________________________________________\n",
      "dropout_12 (Dropout)         (None, 128)               0         \n",
      "_________________________________________________________________\n",
      "dense_4 (Dense)              (None, 512)               66048     \n",
      "_________________________________________________________________\n",
      "activation_4 (Activation)    (None, 512)               0         \n",
      "_________________________________________________________________\n",
      "dropout_13 (Dropout)         (None, 512)               0         \n",
      "_________________________________________________________________\n",
      "batch_normalization_4 (Batch (None, 512)               2048      \n",
      "_________________________________________________________________\n",
      "dropout_14 (Dropout)         (None, 512)               0         \n",
      "_________________________________________________________________\n",
      "dense_5 (Dense)              (None, 3)                 1539      \n",
      "_________________________________________________________________\n",
      "activation_5 (Activation)    (None, 3)                 0         \n",
      "=================================================================\n",
      "Total params: 20,293,429\n",
      "Trainable params: 20,292,149\n",
      "Non-trainable params: 1,280\n",
      "_________________________________________________________________\n"
     ]
    }
   ],
   "source": [
    "model3=model_rnn_3((maxLen,), word_to_vec_map, word_to_index)\n",
    "model3.summary()"
   ]
  },
  {
   "cell_type": "code",
   "execution_count": 35,
   "metadata": {
    "scrolled": true
   },
   "outputs": [
    {
     "name": "stdout",
     "output_type": "stream",
     "text": [
      "Train on 10540 samples, validate on 2636 samples\n",
      "Epoch 1/30\n",
      "10540/10540 [==============================] - 71s 7ms/step - loss: 1.5660 - acc: 0.4162 - val_loss: 0.9473 - val_acc: 0.6214\n",
      "Epoch 2/30\n",
      "10540/10540 [==============================] - 67s 6ms/step - loss: 1.1892 - acc: 0.5033 - val_loss: 0.9492 - val_acc: 0.6214\n",
      "Epoch 3/30\n",
      "10540/10540 [==============================] - 68s 6ms/step - loss: 1.0540 - acc: 0.5477 - val_loss: 0.9563 - val_acc: 0.6214\n",
      "Epoch 4/30\n",
      "10540/10540 [==============================] - 67s 6ms/step - loss: 0.9742 - acc: 0.5861 - val_loss: 0.9597 - val_acc: 0.6214\n",
      "Epoch 5/30\n",
      "10540/10540 [==============================] - 67s 6ms/step - loss: 0.9368 - acc: 0.6075 - val_loss: 0.8541 - val_acc: 0.6457\n",
      "Epoch 6/30\n",
      "10540/10540 [==============================] - 68s 6ms/step - loss: 0.8183 - acc: 0.6327 - val_loss: 0.7794 - val_acc: 0.6847\n",
      "Epoch 7/30\n",
      "10540/10540 [==============================] - 67s 6ms/step - loss: 0.7635 - acc: 0.6464 - val_loss: 0.8306 - val_acc: 0.6434\n",
      "Epoch 8/30\n",
      "10540/10540 [==============================] - 67s 6ms/step - loss: 0.6907 - acc: 0.6905 - val_loss: 0.7527 - val_acc: 0.6791\n",
      "Epoch 9/30\n",
      "10540/10540 [==============================] - 67s 6ms/step - loss: 0.6507 - acc: 0.7071 - val_loss: 1.2793 - val_acc: 0.2401\n",
      "Epoch 10/30\n",
      "10540/10540 [==============================] - 67s 6ms/step - loss: 0.6292 - acc: 0.7129 - val_loss: 0.8149 - val_acc: 0.6210\n",
      "Epoch 11/30\n",
      "10540/10540 [==============================] - 68s 6ms/step - loss: 0.6002 - acc: 0.7306 - val_loss: 1.0451 - val_acc: 0.4992\n",
      "Epoch 12/30\n",
      "10540/10540 [==============================] - 67s 6ms/step - loss: 0.5766 - acc: 0.7541 - val_loss: 0.6951 - val_acc: 0.6597\n",
      "Epoch 13/30\n",
      "10540/10540 [==============================] - 67s 6ms/step - loss: 0.5422 - acc: 0.7709 - val_loss: 0.8447 - val_acc: 0.6362\n",
      "Epoch 14/30\n",
      "10540/10540 [==============================] - 68s 6ms/step - loss: 0.5292 - acc: 0.7897 - val_loss: 0.7234 - val_acc: 0.7060\n",
      "Epoch 15/30\n",
      "10540/10540 [==============================] - 67s 6ms/step - loss: 0.5836 - acc: 0.7521 - val_loss: 0.6550 - val_acc: 0.7394\n",
      "Epoch 16/30\n",
      "10540/10540 [==============================] - 68s 6ms/step - loss: 0.5270 - acc: 0.7849 - val_loss: 0.8191 - val_acc: 0.6548\n",
      "Epoch 17/30\n",
      "10540/10540 [==============================] - 67s 6ms/step - loss: 0.4847 - acc: 0.8169 - val_loss: 0.8994 - val_acc: 0.6112\n",
      "Epoch 18/30\n",
      "10540/10540 [==============================] - 67s 6ms/step - loss: 0.4536 - acc: 0.8364 - val_loss: 0.6567 - val_acc: 0.7432\n",
      "Epoch 19/30\n",
      "10540/10540 [==============================] - 68s 6ms/step - loss: 0.4335 - acc: 0.8509 - val_loss: 0.8258 - val_acc: 0.6802\n",
      "Epoch 20/30\n",
      "10540/10540 [==============================] - 67s 6ms/step - loss: 0.4204 - acc: 0.8582 - val_loss: 0.8245 - val_acc: 0.6559\n",
      "Epoch 21/30\n",
      "10540/10540 [==============================] - 67s 6ms/step - loss: 0.3970 - acc: 0.8680 - val_loss: 0.7213 - val_acc: 0.7227\n",
      "Epoch 22/30\n",
      "10540/10540 [==============================] - 68s 6ms/step - loss: 0.3757 - acc: 0.8771 - val_loss: 0.7450 - val_acc: 0.7056\n",
      "Epoch 23/30\n",
      "10540/10540 [==============================] - 67s 6ms/step - loss: 0.3697 - acc: 0.8803 - val_loss: 0.6640 - val_acc: 0.7462\n",
      "Epoch 24/30\n",
      "10540/10540 [==============================] - 67s 6ms/step - loss: 0.3741 - acc: 0.8796 - val_loss: 0.6606 - val_acc: 0.7371\n",
      "Epoch 25/30\n",
      "10540/10540 [==============================] - 68s 6ms/step - loss: 0.3541 - acc: 0.8890 - val_loss: 0.7587 - val_acc: 0.7052\n",
      "Epoch 26/30\n",
      "10540/10540 [==============================] - 67s 6ms/step - loss: 0.3424 - acc: 0.8922 - val_loss: 0.7263 - val_acc: 0.7530\n",
      "Epoch 27/30\n",
      "10540/10540 [==============================] - 68s 6ms/step - loss: 0.3269 - acc: 0.8995 - val_loss: 0.7341 - val_acc: 0.7276\n",
      "Epoch 28/30\n",
      "10540/10540 [==============================] - 68s 6ms/step - loss: 0.3416 - acc: 0.8915 - val_loss: 0.7062 - val_acc: 0.7496\n",
      "Epoch 29/30\n",
      "10540/10540 [==============================] - 67s 6ms/step - loss: 0.3263 - acc: 0.9000 - val_loss: 0.7359 - val_acc: 0.7333\n",
      "Epoch 30/30\n",
      "10540/10540 [==============================] - 68s 6ms/step - loss: 0.3250 - acc: 0.8999 - val_loss: 0.7737 - val_acc: 0.7257\n",
      "Model runs for: 2029.6795954704285\n"
     ]
    }
   ],
   "source": [
    "params_30=params\n",
    "params_30['epochs']=30\n",
    "h3, model3=run(model3, **params_30)"
   ]
  },
  {
   "cell_type": "markdown",
   "metadata": {},
   "source": [
    "Run for another 30 epochs:"
   ]
  },
  {
   "cell_type": "code",
   "execution_count": 41,
   "metadata": {
    "scrolled": true
   },
   "outputs": [
    {
     "name": "stdout",
     "output_type": "stream",
     "text": [
      "Train on 10540 samples, validate on 2636 samples\n",
      "Epoch 1/30\n",
      "10540/10540 [==============================] - 72s 7ms/step - loss: 0.3059 - acc: 0.9116 - val_loss: 0.8638 - val_acc: 0.7508\n",
      "Epoch 2/30\n",
      "10540/10540 [==============================] - 67s 6ms/step - loss: 0.2901 - acc: 0.9156 - val_loss: 0.8287 - val_acc: 0.7409\n",
      "Epoch 3/30\n",
      "10540/10540 [==============================] - 68s 6ms/step - loss: 0.2800 - acc: 0.9159 - val_loss: 0.8516 - val_acc: 0.7595\n",
      "Epoch 4/30\n",
      "10540/10540 [==============================] - 68s 6ms/step - loss: 0.3168 - acc: 0.9019 - val_loss: 0.8340 - val_acc: 0.6889\n",
      "Epoch 5/30\n",
      "10540/10540 [==============================] - 68s 6ms/step - loss: 0.2839 - acc: 0.9171 - val_loss: 0.9168 - val_acc: 0.7583\n",
      "Epoch 6/30\n",
      "10540/10540 [==============================] - 68s 6ms/step - loss: 0.2712 - acc: 0.9199 - val_loss: 0.8346 - val_acc: 0.7280\n",
      "Epoch 7/30\n",
      "10540/10540 [==============================] - 67s 6ms/step - loss: 0.3330 - acc: 0.8921 - val_loss: 0.8994 - val_acc: 0.7496\n",
      "Epoch 8/30\n",
      "10540/10540 [==============================] - 68s 6ms/step - loss: 0.3124 - acc: 0.9082 - val_loss: 0.8784 - val_acc: 0.7599\n",
      "Epoch 9/30\n",
      "10540/10540 [==============================] - 67s 6ms/step - loss: 0.3019 - acc: 0.9106 - val_loss: 0.8899 - val_acc: 0.7564\n",
      "Epoch 10/30\n",
      "10540/10540 [==============================] - 67s 6ms/step - loss: 0.4300 - acc: 0.8215 - val_loss: 0.8928 - val_acc: 0.6696\n",
      "Epoch 11/30\n",
      "10540/10540 [==============================] - 68s 6ms/step - loss: 0.3308 - acc: 0.8973 - val_loss: 0.8637 - val_acc: 0.7329\n",
      "Epoch 12/30\n",
      "10540/10540 [==============================] - 67s 6ms/step - loss: 0.3320 - acc: 0.8911 - val_loss: 0.8354 - val_acc: 0.7208\n",
      "Epoch 13/30\n",
      "10540/10540 [==============================] - 68s 6ms/step - loss: 0.2788 - acc: 0.9183 - val_loss: 0.9524 - val_acc: 0.7492\n",
      "Epoch 14/30\n",
      "10540/10540 [==============================] - 67s 6ms/step - loss: 0.2620 - acc: 0.9222 - val_loss: 0.8444 - val_acc: 0.7477\n",
      "Epoch 15/30\n",
      "10540/10540 [==============================] - 67s 6ms/step - loss: 0.2613 - acc: 0.9240 - val_loss: 0.9149 - val_acc: 0.7360\n",
      "Epoch 16/30\n",
      "10540/10540 [==============================] - 68s 6ms/step - loss: 0.2507 - acc: 0.9255 - val_loss: 0.9416 - val_acc: 0.7470\n",
      "Epoch 17/30\n",
      "10540/10540 [==============================] - 67s 6ms/step - loss: 0.2404 - acc: 0.9317 - val_loss: 1.0024 - val_acc: 0.7481\n",
      "Epoch 18/30\n",
      "10540/10540 [==============================] - 67s 6ms/step - loss: 0.2425 - acc: 0.9319 - val_loss: 1.0758 - val_acc: 0.7462\n",
      "Epoch 19/30\n",
      "10540/10540 [==============================] - 68s 6ms/step - loss: 0.2450 - acc: 0.9262 - val_loss: 0.9043 - val_acc: 0.7341\n",
      "Epoch 20/30\n",
      "10540/10540 [==============================] - 67s 6ms/step - loss: 0.2347 - acc: 0.9318 - val_loss: 1.0766 - val_acc: 0.7500\n",
      "Epoch 21/30\n",
      "10540/10540 [==============================] - 68s 6ms/step - loss: 0.2250 - acc: 0.9342 - val_loss: 1.0197 - val_acc: 0.7409\n",
      "Epoch 22/30\n",
      "10540/10540 [==============================] - 67s 6ms/step - loss: 0.2208 - acc: 0.9373 - val_loss: 1.0113 - val_acc: 0.7557\n",
      "Epoch 23/30\n",
      "10540/10540 [==============================] - 67s 6ms/step - loss: 0.2338 - acc: 0.9303 - val_loss: 1.0293 - val_acc: 0.7439\n",
      "Epoch 24/30\n",
      "10540/10540 [==============================] - 68s 6ms/step - loss: 0.2833 - acc: 0.9117 - val_loss: 0.8762 - val_acc: 0.7162\n",
      "Epoch 25/30\n",
      "10540/10540 [==============================] - 67s 6ms/step - loss: 0.2465 - acc: 0.9239 - val_loss: 0.9261 - val_acc: 0.7348\n",
      "Epoch 26/30\n",
      "10540/10540 [==============================] - 67s 6ms/step - loss: 0.2678 - acc: 0.9180 - val_loss: 0.9372 - val_acc: 0.7386\n",
      "Epoch 27/30\n",
      "10540/10540 [==============================] - 68s 6ms/step - loss: 0.2264 - acc: 0.9334 - val_loss: 1.0215 - val_acc: 0.7443\n",
      "Epoch 28/30\n",
      "10540/10540 [==============================] - 67s 6ms/step - loss: 0.2933 - acc: 0.9059 - val_loss: 0.8377 - val_acc: 0.7269\n",
      "Epoch 29/30\n",
      "10540/10540 [==============================] - 68s 6ms/step - loss: 0.2318 - acc: 0.9299 - val_loss: 0.9826 - val_acc: 0.7064\n",
      "Epoch 30/30\n",
      "10540/10540 [==============================] - 67s 6ms/step - loss: 0.2185 - acc: 0.9341 - val_loss: 1.1657 - val_acc: 0.7375\n",
      "Model runs for: 2029.9199788570404\n"
     ]
    }
   ],
   "source": [
    "h3, model3=run(model3, **params_30)"
   ]
  },
  {
   "cell_type": "code",
   "execution_count": 46,
   "metadata": {
    "scrolled": false
   },
   "outputs": [
    {
     "data": {
      "image/png": "[encoded data removed]",
      "text/plain": [
       "<Figure size 432x288 with 1 Axes>"
      ]
     },
     "metadata": {},
     "output_type": "display_data"
    },
    {
     "data": {
      "image/png": "[encoded data removed]",
      "text/plain": [
       "<Figure size 432x288 with 1 Axes>"
      ]
     },
     "metadata": {},
     "output_type": "display_data"
    },
    {
     "name": "stdout",
     "output_type": "stream",
     "text": [
      "1464/1464 [==============================] - 2s 1ms/step\n",
      "Test accuracy =  0.7233606560634134\n",
      "Test f1 score =  0.7166624815533406\n"
     ]
    },
    {
     "data": {
      "text/html": [
       "<div>\n",
       "<style scoped>\n",
       "    .dataframe tbody tr th:only-of-type {\n",
       "        vertical-align: middle;\n",
       "    }\n",
       "\n",
       "    .dataframe tbody tr th {\n",
       "        vertical-align: top;\n",
       "    }\n",
       "\n",
       "    .dataframe thead th {\n",
       "        text-align: right;\n",
       "    }\n",
       "</style>\n",
       "<table border=\"1\" class=\"dataframe\">\n",
       "  <thead>\n",
       "    <tr style=\"text-align: right;\">\n",
       "      <th></th>\n",
       "      <th>predicted_positive</th>\n",
       "      <th>predicted_neutral</th>\n",
       "      <th>predicted_negative</th>\n",
       "    </tr>\n",
       "  </thead>\n",
       "  <tbody>\n",
       "    <tr>\n",
       "      <th>positive</th>\n",
       "      <td>74</td>\n",
       "      <td>98</td>\n",
       "      <td>52</td>\n",
       "    </tr>\n",
       "    <tr>\n",
       "      <th>neutral</th>\n",
       "      <td>9</td>\n",
       "      <td>200</td>\n",
       "      <td>116</td>\n",
       "    </tr>\n",
       "    <tr>\n",
       "      <th>negative</th>\n",
       "      <td>4</td>\n",
       "      <td>126</td>\n",
       "      <td>785</td>\n",
       "    </tr>\n",
       "  </tbody>\n",
       "</table>\n",
       "</div>"
      ],
      "text/plain": [
       "          predicted_positive  predicted_neutral  predicted_negative\n",
       "positive                  74                 98                  52\n",
       "neutral                    9                200                 116\n",
       "negative                   4                126                 785"
      ]
     },
     "metadata": {},
     "output_type": "display_data"
    }
   ],
   "source": [
    "evaluate(h3, model3)"
   ]
  },
  {
   "cell_type": "markdown",
   "metadata": {},
   "source": [
    "Compared the 3 models above, the first one seems to perform better and yields 0.75 test accuracy and 0.74 test f1 score. The result is decent but running the LSTM model is quite computively expensive. Logistic regression, gradient boosting or random forest can be good alternatives."
   ]
  }
 ],
 "metadata": {
  "kernelspec": {
   "display_name": "Python 3",
   "language": "python",
   "name": "python3"
  },
  "language_info": {
   "codemirror_mode": {
    "name": "ipython",
    "version": 3
   },
   "file_extension": ".py",
   "mimetype": "text/x-python",
   "name": "python",
   "nbconvert_exporter": "python",
   "pygments_lexer": "ipython3",
   "version": "3.6.5"
  },
  "latex_envs": {
   "LaTeX_envs_menu_present": true,
   "autoclose": false,
   "autocomplete": true,
   "bibliofile": "biblio.bib",
   "cite_by": "apalike",
   "current_citInitial": 1,
   "eqLabelWithNumbers": true,
   "eqNumInitial": 1,
   "hotkeys": {
    "equation": "Ctrl-E",
    "itemize": "Ctrl-I"
   },
   "labels_anchors": false,
   "latex_user_defs": false,
   "report_style_numbering": false,
   "user_envs_cfg": false
  },
  "toc": {
   "base_numbering": 1,
   "nav_menu": {},
   "number_sections": false,
   "sideBar": true,
   "skip_h1_title": false,
   "title_cell": "Table of Contents",
   "title_sidebar": "Contents",
   "toc_cell": false,
   "toc_position": {
    "height": "calc(100% - 180px)",
    "left": "10px",
    "top": "150px",
    "width": "222px"
   },
   "toc_section_display": true,
   "toc_window_display": false
  },
  "varInspector": {
   "cols": {
    "lenName": 16,
    "lenType": 16,
    "lenVar": 40
   },
   "kernels_config": {
    "python": {
     "delete_cmd_postfix": "",
     "delete_cmd_prefix": "del ",
     "library": "var_list.py",
     "varRefreshCmd": "print(var_dic_list())"
    },
    "r": {
     "delete_cmd_postfix": ") ",
     "delete_cmd_prefix": "rm(",
     "library": "var_list.r",
     "varRefreshCmd": "cat(var_dic_list()) "
    }
   },
   "types_to_exclude": [
    "module",
    "function",
    "builtin_function_or_method",
    "instance",
    "_Feature"
   ],
   "window_display": false
  }
 },
 "nbformat": 4,
 "nbformat_minor": 1
}
